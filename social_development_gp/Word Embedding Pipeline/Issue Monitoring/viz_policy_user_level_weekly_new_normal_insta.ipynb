{
 "cells": [
  {
   "cell_type": "code",
   "execution_count": 1,
   "metadata": {},
   "outputs": [],
   "source": [
    "import pandas as pd\n",
    "import numpy as np\n",
    "from tqdm import tqdm\n",
    "import altair as alt"
   ]
  },
  {
   "cell_type": "code",
   "execution_count": 2,
   "metadata": {},
   "outputs": [],
   "source": [
    "df = pd.read_csv(\"F:/WB/Issue Monitoring/data/insta_TOP_10_Evolution_Weekly_Issue_Keyword_user_level_new_normal.csv\")\n",
    "\n",
    "df['tweets_count'] = df['tweets_count'].astype(int)\n",
    "df['week_of_the_year'] = df['week_of_the_year'].astype(int)\n",
    "\n",
    "df = df[df['week_of_the_year']>=19].reset_index(drop=True)"
   ]
  },
  {
   "cell_type": "code",
   "execution_count": 3,
   "metadata": {},
   "outputs": [
    {
     "output_type": "execute_result",
     "data": {
      "text/plain": "        user_id  tweets_count  week_of_the_year  comments_count  likes_count  \\\n0  8.955400e+09           185                22             0.0          3.0   \n1  2.282325e+10            13                22             1.0         21.0   \n2  1.829367e+09             7                22             0.0          0.0   \n3  2.479247e+10             4                22             0.0          5.0   \n4  1.321055e+10             2                20             0.0          7.0   \n\n   sentiment_score  confidence in government new normal  \\\n0         0.139785                                  1.0   \n1        -0.200000                                  0.0   \n2         0.000000                                  0.0   \n3         0.042857                                  0.0   \n4         0.000000                                  0.0   \n\n   economic policy new normal  employment new normal  health care new normal  \\\n0                         0.0                    0.0                     0.0   \n1                         0.0                    0.0                     0.0   \n2                         0.0                    0.0                     0.0   \n3                         0.0                    0.0                     0.0   \n4                         0.0                    0.0                     0.0   \n\n   health protocol new normal  mobility new normal  \n0                         0.0                  0.0  \n1                         0.0                  0.0  \n2                         0.0                  0.0  \n3                         0.0                  0.0  \n4                         0.0                  0.0  ",
      "text/html": "<div>\n<style scoped>\n    .dataframe tbody tr th:only-of-type {\n        vertical-align: middle;\n    }\n\n    .dataframe tbody tr th {\n        vertical-align: top;\n    }\n\n    .dataframe thead th {\n        text-align: right;\n    }\n</style>\n<table border=\"1\" class=\"dataframe\">\n  <thead>\n    <tr style=\"text-align: right;\">\n      <th></th>\n      <th>user_id</th>\n      <th>tweets_count</th>\n      <th>week_of_the_year</th>\n      <th>comments_count</th>\n      <th>likes_count</th>\n      <th>sentiment_score</th>\n      <th>confidence in government new normal</th>\n      <th>economic policy new normal</th>\n      <th>employment new normal</th>\n      <th>health care new normal</th>\n      <th>health protocol new normal</th>\n      <th>mobility new normal</th>\n    </tr>\n  </thead>\n  <tbody>\n    <tr>\n      <th>0</th>\n      <td>8.955400e+09</td>\n      <td>185</td>\n      <td>22</td>\n      <td>0.0</td>\n      <td>3.0</td>\n      <td>0.139785</td>\n      <td>1.0</td>\n      <td>0.0</td>\n      <td>0.0</td>\n      <td>0.0</td>\n      <td>0.0</td>\n      <td>0.0</td>\n    </tr>\n    <tr>\n      <th>1</th>\n      <td>2.282325e+10</td>\n      <td>13</td>\n      <td>22</td>\n      <td>1.0</td>\n      <td>21.0</td>\n      <td>-0.200000</td>\n      <td>0.0</td>\n      <td>0.0</td>\n      <td>0.0</td>\n      <td>0.0</td>\n      <td>0.0</td>\n      <td>0.0</td>\n    </tr>\n    <tr>\n      <th>2</th>\n      <td>1.829367e+09</td>\n      <td>7</td>\n      <td>22</td>\n      <td>0.0</td>\n      <td>0.0</td>\n      <td>0.000000</td>\n      <td>0.0</td>\n      <td>0.0</td>\n      <td>0.0</td>\n      <td>0.0</td>\n      <td>0.0</td>\n      <td>0.0</td>\n    </tr>\n    <tr>\n      <th>3</th>\n      <td>2.479247e+10</td>\n      <td>4</td>\n      <td>22</td>\n      <td>0.0</td>\n      <td>5.0</td>\n      <td>0.042857</td>\n      <td>0.0</td>\n      <td>0.0</td>\n      <td>0.0</td>\n      <td>0.0</td>\n      <td>0.0</td>\n      <td>0.0</td>\n    </tr>\n    <tr>\n      <th>4</th>\n      <td>1.321055e+10</td>\n      <td>2</td>\n      <td>20</td>\n      <td>0.0</td>\n      <td>7.0</td>\n      <td>0.000000</td>\n      <td>0.0</td>\n      <td>0.0</td>\n      <td>0.0</td>\n      <td>0.0</td>\n      <td>0.0</td>\n      <td>0.0</td>\n    </tr>\n  </tbody>\n</table>\n</div>"
     },
     "metadata": {},
     "execution_count": 3
    }
   ],
   "source": [
    "df.head()"
   ]
  },
  {
   "cell_type": "code",
   "execution_count": 4,
   "metadata": {},
   "outputs": [
    {
     "output_type": "execute_result",
     "data": {
      "text/plain": "array([22, 20, 21, 19, 24, 23])"
     },
     "metadata": {},
     "execution_count": 4
    }
   ],
   "source": [
    "df['week_of_the_year'].unique()"
   ]
  },
  {
   "cell_type": "code",
   "execution_count": 5,
   "metadata": {},
   "outputs": [
    {
     "output_type": "stream",
     "name": "stdout",
     "text": "Generating Stats for Week 19 and Topic confidence in government new normal\nGenerating Stats for Week 19 and Topic economic policy new normal\nGenerating Stats for Week 19 and Topic employment new normal\nGenerating Stats for Week 19 and Topic health care new normal\nGenerating Stats for Week 19 and Topic health protocol new normal\nGenerating Stats for Week 19 and Topic mobility new normal\nGenerating Stats for Week 20 and Topic confidence in government new normal\nGenerating Stats for Week 20 and Topic economic policy new normal\nGenerating Stats for Week 20 and Topic employment new normal\nGenerating Stats for Week 20 and Topic health care new normal\nGenerating Stats for Week 20 and Topic health protocol new normal\nGenerating Stats for Week 20 and Topic mobility new normal\nGenerating Stats for Week 21 and Topic confidence in government new normal\nGenerating Stats for Week 21 and Topic economic policy new normal\nGenerating Stats for Week 21 and Topic employment new normal\nGenerating Stats for Week 21 and Topic health care new normal\nGenerating Stats for Week 21 and Topic health protocol new normal\nGenerating Stats for Week 21 and Topic mobility new normal\nGenerating Stats for Week 22 and Topic confidence in government new normal\nGenerating Stats for Week 22 and Topic economic policy new normal\nGenerating Stats for Week 22 and Topic employment new normal\nGenerating Stats for Week 22 and Topic health care new normal\nGenerating Stats for Week 22 and Topic health protocol new normal\nGenerating Stats for Week 22 and Topic mobility new normal\nGenerating Stats for Week 23 and Topic confidence in government new normal\nGenerating Stats for Week 23 and Topic economic policy new normal\nGenerating Stats for Week 23 and Topic employment new normal\nGenerating Stats for Week 23 and Topic health care new normal\nGenerating Stats for Week 23 and Topic health protocol new normal\nGenerating Stats for Week 23 and Topic mobility new normal\nGenerating Stats for Week 24 and Topic confidence in government new normal\nGenerating Stats for Week 24 and Topic economic policy new normal\nGenerating Stats for Week 24 and Topic employment new normal\nGenerating Stats for Week 24 and Topic health care new normal\nGenerating Stats for Week 24 and Topic health protocol new normal\nGenerating Stats for Week 24 and Topic mobility new normal\n"
    }
   ],
   "source": [
    "week_dict = {}\n",
    "for week in [19,20,21,22,23,24]:\n",
    "    week_dict[str(week)] = {}\n",
    "    tweets_count_dict = {}\n",
    "    for topic in ['confidence in government new normal','economic policy new normal','employment new normal','health care new normal','health protocol new normal','mobility new normal']:\n",
    "        print('Generating Stats for Week {} and Topic {}'.format(week,topic))\n",
    "        filter_df = df[(df[topic]==1) & (df.week_of_the_year==week)].reset_index(drop=True)\n",
    "        tweets_count_dict[topic] = filter_df['tweets_count'].sum()\n",
    "\n",
    "    week_dict[str(week)]['tweets_count'] = tweets_count_dict"
   ]
  },
  {
   "cell_type": "code",
   "execution_count": 6,
   "metadata": {},
   "outputs": [],
   "source": [
    "tweets_count_list = []\n",
    "for week in ['19','20','21','22','23','24']:\n",
    "    for topic in ['confidence in government new normal','economic policy new normal','employment new normal','health care new normal','health protocol new normal','mobility new normal']:\n",
    "        tweets_count_list.append(week_dict[week]['tweets_count'][topic])\n"
   ]
  },
  {
   "cell_type": "code",
   "execution_count": 7,
   "metadata": {},
   "outputs": [],
   "source": [
    "source = pd.DataFrame({\n",
    "    'week' : ['May 4th - May 10th']*6 + ['May 11th - May 17th']*6 + ['May 18th - May 24th']*6 + ['May 25th - May 31th']*6 + ['June 1st - June 7th']*6 + ['June 8th - June 9th']*6,\n",
    "    'topic' : ['confidence in government new normal','economic policy new normal','employment new normal','health care new normal','health protocol new normal','mobility new normal']*6,\n",
    "    'posts count': tweets_count_list\n",
    "})\n",
    "\n",
    "source = source[source['posts count']!=0].reset_index(drop=True)"
   ]
  },
  {
   "cell_type": "code",
   "execution_count": 9,
   "metadata": {},
   "outputs": [
    {
     "output_type": "execute_result",
     "data": {
      "text/html": "\n<div id=\"altair-viz-e7670392d9524137848e8f6e4ebbd73f\"></div>\n<script type=\"text/javascript\">\n  (function(spec, embedOpt){\n    let outputDiv = document.currentScript.previousElementSibling;\n    if (outputDiv.id !== \"altair-viz-e7670392d9524137848e8f6e4ebbd73f\") {\n      outputDiv = document.getElementById(\"altair-viz-e7670392d9524137848e8f6e4ebbd73f\");\n    }\n    const paths = {\n      \"vega\": \"https://cdn.jsdelivr.net/npm//vega@5?noext\",\n      \"vega-lib\": \"https://cdn.jsdelivr.net/npm//vega-lib?noext\",\n      \"vega-lite\": \"https://cdn.jsdelivr.net/npm//vega-lite@4.8.1?noext\",\n      \"vega-embed\": \"https://cdn.jsdelivr.net/npm//vega-embed@6?noext\",\n    };\n\n    function loadScript(lib) {\n      return new Promise(function(resolve, reject) {\n        var s = document.createElement('script');\n        s.src = paths[lib];\n        s.async = true;\n        s.onload = () => resolve(paths[lib]);\n        s.onerror = () => reject(`Error loading script: ${paths[lib]}`);\n        document.getElementsByTagName(\"head\")[0].appendChild(s);\n      });\n    }\n\n    function showError(err) {\n      outputDiv.innerHTML = `<div class=\"error\" style=\"color:red;\">${err}</div>`;\n      throw err;\n    }\n\n    function displayChart(vegaEmbed) {\n      vegaEmbed(outputDiv, spec, embedOpt)\n        .catch(err => showError(`Javascript Error: ${err.message}<br>This usually means there's a typo in your chart specification. See the javascript console for the full traceback.`));\n    }\n\n    if(typeof define === \"function\" && define.amd) {\n      requirejs.config({paths});\n      require([\"vega-embed\"], displayChart, err => showError(`Error loading script: ${err.message}`));\n    } else if (typeof vegaEmbed === \"function\") {\n      displayChart(vegaEmbed);\n    } else {\n      loadScript(\"vega\")\n        .then(() => loadScript(\"vega-lite\"))\n        .then(() => loadScript(\"vega-embed\"))\n        .catch(showError)\n        .then(() => displayChart(vegaEmbed));\n    }\n  })({\"config\": {\"view\": {\"continuousWidth\": 400, \"continuousHeight\": 300}, \"axis\": {\"labelFontSize\": 11, \"titleFontSize\": 20}, \"axisX\": {\"labelAngle\": 0}, \"legend\": {\"labelFontSize\": 15}, \"title\": {\"fontSize\": 30}}, \"data\": {\"name\": \"data-20c9c537522f6b0abe3d0c9c75b81924\"}, \"mark\": \"bar\", \"encoding\": {\"color\": {\"type\": \"nominal\", \"field\": \"topic\"}, \"order\": {\"type\": \"nominal\", \"field\": \"topic\", \"sort\": \"ascending\"}, \"x\": {\"type\": \"nominal\", \"field\": \"week\", \"sort\": [\"May 4th - May 10th\", \"May 11th - May 17th\"]}, \"y\": {\"type\": \"quantitative\", \"axis\": {\"format\": \"%\"}, \"field\": \"posts count\", \"stack\": \"normalize\", \"title\": \"% Posts\"}}, \"height\": 700, \"title\": \"Distribution of New Normal Topic Weekly\", \"width\": 1000, \"$schema\": \"https://vega.github.io/schema/vega-lite/v4.8.1.json\", \"datasets\": {\"data-20c9c537522f6b0abe3d0c9c75b81924\": [{\"week\": \"May 4th - May 10th\", \"topic\": \"confidence in government new normal\", \"posts count\": 32663}, {\"week\": \"May 4th - May 10th\", \"topic\": \"economic policy new normal\", \"posts count\": 22045}, {\"week\": \"May 4th - May 10th\", \"topic\": \"employment new normal\", \"posts count\": 226439}, {\"week\": \"May 4th - May 10th\", \"topic\": \"health care new normal\", \"posts count\": 5272}, {\"week\": \"May 4th - May 10th\", \"topic\": \"health protocol new normal\", \"posts count\": 183359}, {\"week\": \"May 4th - May 10th\", \"topic\": \"mobility new normal\", \"posts count\": 40381}, {\"week\": \"May 11th - May 17th\", \"topic\": \"confidence in government new normal\", \"posts count\": 49356}, {\"week\": \"May 11th - May 17th\", \"topic\": \"economic policy new normal\", \"posts count\": 13114}, {\"week\": \"May 11th - May 17th\", \"topic\": \"employment new normal\", \"posts count\": 195850}, {\"week\": \"May 11th - May 17th\", \"topic\": \"health care new normal\", \"posts count\": 21375}, {\"week\": \"May 11th - May 17th\", \"topic\": \"health protocol new normal\", \"posts count\": 157285}, {\"week\": \"May 11th - May 17th\", \"topic\": \"mobility new normal\", \"posts count\": 50725}, {\"week\": \"May 18th - May 24th\", \"topic\": \"confidence in government new normal\", \"posts count\": 57817}, {\"week\": \"May 18th - May 24th\", \"topic\": \"economic policy new normal\", \"posts count\": 14403}, {\"week\": \"May 18th - May 24th\", \"topic\": \"employment new normal\", \"posts count\": 315406}, {\"week\": \"May 18th - May 24th\", \"topic\": \"health care new normal\", \"posts count\": 37983}, {\"week\": \"May 18th - May 24th\", \"topic\": \"health protocol new normal\", \"posts count\": 168697}, {\"week\": \"May 18th - May 24th\", \"topic\": \"mobility new normal\", \"posts count\": 33394}, {\"week\": \"May 25th - May 31th\", \"topic\": \"confidence in government new normal\", \"posts count\": 9120}, {\"week\": \"May 25th - May 31th\", \"topic\": \"economic policy new normal\", \"posts count\": 26270}, {\"week\": \"May 25th - May 31th\", \"topic\": \"employment new normal\", \"posts count\": 39976}, {\"week\": \"May 25th - May 31th\", \"topic\": \"health care new normal\", \"posts count\": 1284}, {\"week\": \"May 25th - May 31th\", \"topic\": \"health protocol new normal\", \"posts count\": 36889}, {\"week\": \"May 25th - May 31th\", \"topic\": \"mobility new normal\", \"posts count\": 11032}, {\"week\": \"June 1st - June 7th\", \"topic\": \"confidence in government new normal\", \"posts count\": 31816}, {\"week\": \"June 1st - June 7th\", \"topic\": \"economic policy new normal\", \"posts count\": 29163}, {\"week\": \"June 1st - June 7th\", \"topic\": \"employment new normal\", \"posts count\": 94589}, {\"week\": \"June 1st - June 7th\", \"topic\": \"health care new normal\", \"posts count\": 33490}, {\"week\": \"June 1st - June 7th\", \"topic\": \"health protocol new normal\", \"posts count\": 71169}, {\"week\": \"June 1st - June 7th\", \"topic\": \"mobility new normal\", \"posts count\": 49097}, {\"week\": \"June 8th - June 9th\", \"topic\": \"confidence in government new normal\", \"posts count\": 27693}, {\"week\": \"June 8th - June 9th\", \"topic\": \"economic policy new normal\", \"posts count\": 4760}, {\"week\": \"June 8th - June 9th\", \"topic\": \"employment new normal\", \"posts count\": 55953}, {\"week\": \"June 8th - June 9th\", \"topic\": \"health care new normal\", \"posts count\": 966}, {\"week\": \"June 8th - June 9th\", \"topic\": \"health protocol new normal\", \"posts count\": 34604}, {\"week\": \"June 8th - June 9th\", \"topic\": \"mobility new normal\", \"posts count\": 10703}]}}, {\"mode\": \"vega-lite\"});\n</script>",
      "text/plain": "alt.Chart(...)"
     },
     "metadata": {},
     "execution_count": 9
    }
   ],
   "source": [
    "alt.Chart(source).mark_bar().encode(\n",
    "    x = alt.X('week',sort=['May 4th - May 10th','May 11th - May 17th']),\n",
    "    y = alt.Y('posts count',stack=\"normalize\", axis=alt.Axis(format='%'), title = '% Posts'),\n",
    "    color = 'topic',\n",
    "    order = alt.Order('topic',sort='ascending')\n",
    ").properties(\n",
    "    width=1000,\n",
    "    height=700,\n",
    "    title='Distribution of New Normal Topic Weekly'\n",
    ").configure_axis(\n",
    "    labelFontSize=11,\n",
    "    titleFontSize=20\n",
    ").configure_title(\n",
    "    fontSize=30\n",
    ").configure_legend(\n",
    "    labelFontSize=15\n",
    ").configure_axisX(\n",
    "    labelAngle = 0\n",
    ")"
   ]
  }
 ],
 "metadata": {
  "language_info": {
   "codemirror_mode": {
    "name": "ipython",
    "version": 3
   },
   "file_extension": ".py",
   "mimetype": "text/x-python",
   "name": "python",
   "nbconvert_exporter": "python",
   "pygments_lexer": "ipython3",
   "version": "3.6.7-final"
  },
  "orig_nbformat": 2,
  "kernelspec": {
   "name": "189d4e60-b5b9-45fd-a760-8e03910b4404",
   "display_name": "'Python Interactive'"
  }
 },
 "nbformat": 4,
 "nbformat_minor": 2
}