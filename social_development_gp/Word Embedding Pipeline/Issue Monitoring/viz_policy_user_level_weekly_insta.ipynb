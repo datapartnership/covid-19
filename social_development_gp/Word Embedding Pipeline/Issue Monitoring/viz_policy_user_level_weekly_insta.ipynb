{
 "cells": [
  {
   "cell_type": "code",
   "execution_count": 2,
   "metadata": {},
   "outputs": [],
   "source": [
    "import pandas as pd\n",
    "import numpy as np\n",
    "from tqdm import tqdm\n",
    "import altair as alt"
   ]
  },
  {
   "cell_type": "code",
   "execution_count": 3,
   "metadata": {},
   "outputs": [],
   "source": [
    "df = pd.read_csv(\"F:/WB/Issue Monitoring/data/insta_TOP_10_Evolution_Weekly_Issue_Keyword_user_level.csv\")\n",
    "\n",
    "df['tweets_count'] = df['tweets_count'].astype(int)\n",
    "df['week_of_the_year'] = df['week_of_the_year'].astype(int)\n",
    "\n",
    "df = df[df['week_of_the_year']>=13].reset_index(drop=True)"
   ]
  },
  {
   "cell_type": "code",
   "execution_count": 4,
   "metadata": {},
   "outputs": [
    {
     "output_type": "execute_result",
     "data": {
      "text/plain": "        user_id  tweets_count  week_of_the_year  comments_count  likes_count  \\\n0  2.627151e+08             2                13            14.0         84.0   \n1  1.829367e+09             1                13             0.0          0.0   \n2  8.459447e+09             2                13             0.0          3.0   \n3  6.062469e+09             1                13             0.0         10.0   \n4  1.950090e+09            25                13             0.0          1.0   \n\n   sentiment_score  confidence in government  economic policy  employment  \\\n0         0.000000                       0.0              0.0         0.0   \n1         0.000000                       0.0              0.0         0.0   \n2         0.000000                       0.0              0.0         1.0   \n3         0.070423                       1.0              0.0         1.0   \n4         0.000000                       0.0              0.0         0.0   \n\n   food access  health care  health protocol  mobility  stigma  \n0          0.0          0.0              0.0       0.0     0.0  \n1          1.0          0.0              0.0       0.0     0.0  \n2          1.0          1.0              1.0       1.0     1.0  \n3          1.0          1.0              1.0       0.0     0.0  \n4          0.0          0.0              0.0       0.0     0.0  ",
      "text/html": "<div>\n<style scoped>\n    .dataframe tbody tr th:only-of-type {\n        vertical-align: middle;\n    }\n\n    .dataframe tbody tr th {\n        vertical-align: top;\n    }\n\n    .dataframe thead th {\n        text-align: right;\n    }\n</style>\n<table border=\"1\" class=\"dataframe\">\n  <thead>\n    <tr style=\"text-align: right;\">\n      <th></th>\n      <th>user_id</th>\n      <th>tweets_count</th>\n      <th>week_of_the_year</th>\n      <th>comments_count</th>\n      <th>likes_count</th>\n      <th>sentiment_score</th>\n      <th>confidence in government</th>\n      <th>economic policy</th>\n      <th>employment</th>\n      <th>food access</th>\n      <th>health care</th>\n      <th>health protocol</th>\n      <th>mobility</th>\n      <th>stigma</th>\n    </tr>\n  </thead>\n  <tbody>\n    <tr>\n      <th>0</th>\n      <td>2.627151e+08</td>\n      <td>2</td>\n      <td>13</td>\n      <td>14.0</td>\n      <td>84.0</td>\n      <td>0.000000</td>\n      <td>0.0</td>\n      <td>0.0</td>\n      <td>0.0</td>\n      <td>0.0</td>\n      <td>0.0</td>\n      <td>0.0</td>\n      <td>0.0</td>\n      <td>0.0</td>\n    </tr>\n    <tr>\n      <th>1</th>\n      <td>1.829367e+09</td>\n      <td>1</td>\n      <td>13</td>\n      <td>0.0</td>\n      <td>0.0</td>\n      <td>0.000000</td>\n      <td>0.0</td>\n      <td>0.0</td>\n      <td>0.0</td>\n      <td>1.0</td>\n      <td>0.0</td>\n      <td>0.0</td>\n      <td>0.0</td>\n      <td>0.0</td>\n    </tr>\n    <tr>\n      <th>2</th>\n      <td>8.459447e+09</td>\n      <td>2</td>\n      <td>13</td>\n      <td>0.0</td>\n      <td>3.0</td>\n      <td>0.000000</td>\n      <td>0.0</td>\n      <td>0.0</td>\n      <td>1.0</td>\n      <td>1.0</td>\n      <td>1.0</td>\n      <td>1.0</td>\n      <td>1.0</td>\n      <td>1.0</td>\n    </tr>\n    <tr>\n      <th>3</th>\n      <td>6.062469e+09</td>\n      <td>1</td>\n      <td>13</td>\n      <td>0.0</td>\n      <td>10.0</td>\n      <td>0.070423</td>\n      <td>1.0</td>\n      <td>0.0</td>\n      <td>1.0</td>\n      <td>1.0</td>\n      <td>1.0</td>\n      <td>1.0</td>\n      <td>0.0</td>\n      <td>0.0</td>\n    </tr>\n    <tr>\n      <th>4</th>\n      <td>1.950090e+09</td>\n      <td>25</td>\n      <td>13</td>\n      <td>0.0</td>\n      <td>1.0</td>\n      <td>0.000000</td>\n      <td>0.0</td>\n      <td>0.0</td>\n      <td>0.0</td>\n      <td>0.0</td>\n      <td>0.0</td>\n      <td>0.0</td>\n      <td>0.0</td>\n      <td>0.0</td>\n    </tr>\n  </tbody>\n</table>\n</div>"
     },
     "metadata": {},
     "execution_count": 4
    }
   ],
   "source": [
    "df.head()"
   ]
  },
  {
   "cell_type": "code",
   "execution_count": 5,
   "metadata": {},
   "outputs": [
    {
     "output_type": "execute_result",
     "data": {
      "text/plain": "array([13, 22, 16, 15, 14, 20, 21, 17, 18, 19, 24, 23])"
     },
     "metadata": {},
     "execution_count": 5
    }
   ],
   "source": [
    "df['week_of_the_year'].unique()"
   ]
  },
  {
   "cell_type": "code",
   "execution_count": 6,
   "metadata": {},
   "outputs": [
    {
     "output_type": "stream",
     "name": "stdout",
     "text": "Generating Stats for Week 13 and Topic confidence in government\nGenerating Stats for Week 13 and Topic economic policy\nGenerating Stats for Week 13 and Topic employment\nGenerating Stats for Week 13 and Topic food access\nGenerating Stats for Week 13 and Topic health care\nGenerating Stats for Week 13 and Topic health protocol\nGenerating Stats for Week 13 and Topic mobility\nGenerating Stats for Week 13 and Topic stigma\nGenerating Stats for Week 14 and Topic confidence in government\nGenerating Stats for Week 14 and Topic economic policy\nGenerating Stats for Week 14 and Topic employment\nGenerating Stats for Week 14 and Topic food access\nGenerating Stats for Week 14 and Topic health care\nGenerating Stats for Week 14 and Topic health protocol\nGenerating Stats for Week 14 and Topic mobility\nGenerating Stats for Week 14 and Topic stigma\nGenerating Stats for Week 15 and Topic confidence in government\nGenerating Stats for Week 15 and Topic economic policy\nGenerating Stats for Week 15 and Topic employment\nGenerating Stats for Week 15 and Topic food access\nGenerating Stats for Week 15 and Topic health care\nGenerating Stats for Week 15 and Topic health protocol\nGenerating Stats for Week 15 and Topic mobility\nGenerating Stats for Week 15 and Topic stigma\nGenerating Stats for Week 16 and Topic confidence in government\nGenerating Stats for Week 16 and Topic economic policy\nGenerating Stats for Week 16 and Topic employment\nGenerating Stats for Week 16 and Topic food access\nGenerating Stats for Week 16 and Topic health care\nGenerating Stats for Week 16 and Topic health protocol\nGenerating Stats for Week 16 and Topic mobility\nGenerating Stats for Week 16 and Topic stigma\nGenerating Stats for Week 17 and Topic confidence in government\nGenerating Stats for Week 17 and Topic economic policy\nGenerating Stats for Week 17 and Topic employment\nGenerating Stats for Week 17 and Topic food access\nGenerating Stats for Week 17 and Topic health care\nGenerating Stats for Week 17 and Topic health protocol\nGenerating Stats for Week 17 and Topic mobility\nGenerating Stats for Week 17 and Topic stigma\nGenerating Stats for Week 18 and Topic confidence in government\nGenerating Stats for Week 18 and Topic economic policy\nGenerating Stats for Week 18 and Topic employment\nGenerating Stats for Week 18 and Topic food access\nGenerating Stats for Week 18 and Topic health care\nGenerating Stats for Week 18 and Topic health protocol\nGenerating Stats for Week 18 and Topic mobility\nGenerating Stats for Week 18 and Topic stigma\nGenerating Stats for Week 19 and Topic confidence in government\nGenerating Stats for Week 19 and Topic economic policy\nGenerating Stats for Week 19 and Topic employment\nGenerating Stats for Week 19 and Topic food access\nGenerating Stats for Week 19 and Topic health care\nGenerating Stats for Week 19 and Topic health protocol\nGenerating Stats for Week 19 and Topic mobility\nGenerating Stats for Week 19 and Topic stigma\nGenerating Stats for Week 20 and Topic confidence in government\nGenerating Stats for Week 20 and Topic economic policy\nGenerating Stats for Week 20 and Topic employment\nGenerating Stats for Week 20 and Topic food access\nGenerating Stats for Week 20 and Topic health care\nGenerating Stats for Week 20 and Topic health protocol\nGenerating Stats for Week 20 and Topic mobility\nGenerating Stats for Week 20 and Topic stigma\nGenerating Stats for Week 21 and Topic confidence in government\nGenerating Stats for Week 21 and Topic economic policy\nGenerating Stats for Week 21 and Topic employment\nGenerating Stats for Week 21 and Topic food access\nGenerating Stats for Week 21 and Topic health care\nGenerating Stats for Week 21 and Topic health protocol\nGenerating Stats for Week 21 and Topic mobility\nGenerating Stats for Week 21 and Topic stigma\nGenerating Stats for Week 22 and Topic confidence in government\nGenerating Stats for Week 22 and Topic economic policy\nGenerating Stats for Week 22 and Topic employment\nGenerating Stats for Week 22 and Topic food access\nGenerating Stats for Week 22 and Topic health care\nGenerating Stats for Week 22 and Topic health protocol\nGenerating Stats for Week 22 and Topic mobility\nGenerating Stats for Week 22 and Topic stigma\nGenerating Stats for Week 23 and Topic confidence in government\nGenerating Stats for Week 23 and Topic economic policy\nGenerating Stats for Week 23 and Topic employment\nGenerating Stats for Week 23 and Topic food access\nGenerating Stats for Week 23 and Topic health care\nGenerating Stats for Week 23 and Topic health protocol\nGenerating Stats for Week 23 and Topic mobility\nGenerating Stats for Week 23 and Topic stigma\nGenerating Stats for Week 24 and Topic confidence in government\nGenerating Stats for Week 24 and Topic economic policy\nGenerating Stats for Week 24 and Topic employment\nGenerating Stats for Week 24 and Topic food access\nGenerating Stats for Week 24 and Topic health care\nGenerating Stats for Week 24 and Topic health protocol\nGenerating Stats for Week 24 and Topic mobility\nGenerating Stats for Week 24 and Topic stigma\n"
    }
   ],
   "source": [
    "week_dict = {}\n",
    "for week in [13,14,15,16,17,18,19,20,21,22,23,24]:\n",
    "    week_dict[str(week)] = {}\n",
    "    tweets_count_dict = {}\n",
    "    median_comments_count_dict = {}\n",
    "    median_likes_count_dict = {}\n",
    "    median_sentiment_score_dict = {}\n",
    "    max_comments_count_dict = {}\n",
    "    max_likes_count_dict = {}\n",
    "    max_sentiment_score_dict = {}\n",
    "    for topic in ['confidence in government','economic policy','employment','food access','health care','health protocol','mobility','stigma']:\n",
    "        print('Generating Stats for Week {} and Topic {}'.format(week,topic))\n",
    "        filter_df = df[(df[topic]==1) & (df.week_of_the_year==week)].reset_index(drop=True)\n",
    "        tweets_count_dict[topic] = filter_df['tweets_count'].sum()\n",
    "        max_comments_count_dict[topic] = np.max(filter_df['comments_count'])\n",
    "        max_likes_count_dict[topic] = np.max(filter_df['likes_count'])\n",
    "        max_sentiment_score_dict[topic] = np.max(filter_df['sentiment_score'])\n",
    "\n",
    "        comments_count_list = []\n",
    "        likes_count_list = []\n",
    "        sentiment_score_list = []\n",
    "        for i in range(len(filter_df)):\n",
    "            for cnt in range(filter_df.loc[i,'tweets_count']):\n",
    "                comments_count_list.append(filter_df.loc[i,'comments_count'])\n",
    "                likes_count_list.append(filter_df.loc[i,'likes_count'])\n",
    "                sentiment_score_list.append(filter_df.loc[i,'sentiment_score'])\n",
    "        median_comments_count_dict[topic] = np.median(comments_count_list)\n",
    "        median_likes_count_dict[topic] = np.median(likes_count_list)\n",
    "        median_sentiment_score_dict[topic] = np.median(sentiment_score_list)    \n",
    "    \n",
    "    week_dict[str(week)]['tweets_count'] = tweets_count_dict\n",
    "    week_dict[str(week)]['median_comments_count'] = median_comments_count_dict\n",
    "    week_dict[str(week)]['median_likes_count'] = median_likes_count_dict\n",
    "    week_dict[str(week)]['median_sentiment_score'] = median_sentiment_score_dict\n",
    "    week_dict[str(week)]['max_comments_count'] = max_comments_count_dict\n",
    "    week_dict[str(week)]['max_likes_count'] = max_likes_count_dict\n",
    "    week_dict[str(week)]['max_sentiment_score'] = max_sentiment_score_dict"
   ]
  },
  {
   "cell_type": "code",
   "execution_count": 7,
   "metadata": {},
   "outputs": [],
   "source": [
    "tweets_count_list = []\n",
    "median_comments_count_list = []\n",
    "median_likes_count_list = []\n",
    "median_sentiment_score_list = []\n",
    "max_comments_count_list = []\n",
    "max_likes_count_list = []\n",
    "max_sentiment_score_list = []\n",
    "for week in ['13','14','15','16','17','18','19','20','21','22','23','24']:\n",
    "    for topic in ['confidence in government','economic policy','employment','food access','health care','health protocol','mobility','stigma']:\n",
    "        tweets_count_list.append(week_dict[week]['tweets_count'][topic])\n",
    "        median_comments_count_list.append(week_dict[week]['median_comments_count'][topic])\n",
    "        median_likes_count_list.append(week_dict[week]['median_likes_count'][topic])\n",
    "        median_sentiment_score_list.append(week_dict[week]['median_sentiment_score'][topic])\n",
    "        max_comments_count_list.append(week_dict[week]['max_comments_count'][topic])\n",
    "        max_likes_count_list.append(week_dict[week]['max_likes_count'][topic])\n",
    "        max_sentiment_score_list.append(week_dict[week]['max_sentiment_score'][topic])\n"
   ]
  },
  {
   "cell_type": "code",
   "execution_count": 8,
   "metadata": {},
   "outputs": [],
   "source": [
    "source = pd.DataFrame({\n",
    "    'week' : ['Mar 23th - Mar 29th']*8 + ['Mar 30th - Apr 5th']*8 + ['Apr 6th - Apr 12th']*8 + ['Apr 13th - Apr 19th']*8 + ['Apr 20th - Apr 26th']*8 + ['Apr 27th - May 3rd']*8 + ['May 4th - May 10th']*8 + ['May 11th - May 17th']*8 + ['May 18th - May 24th']*8 + ['May 25th - May 31th']*8 + ['June 1st - June 7th']*8 + ['June 8th - June 9th']*8,\n",
    "    'topic' : ['confidence in government','economic policy','employment','food access','health care','health protocol','mobility','stigma']*12,\n",
    "    'instagram posts count': tweets_count_list,\n",
    "    'median comments count' : median_comments_count_list,\n",
    "    'median likes count' : median_likes_count_list,\n",
    "    'median sentiment score' : median_sentiment_score_list,\n",
    "    'max comments count' : max_comments_count_list,\n",
    "    'max likes count' : max_likes_count_list,\n",
    "    'max sentiment score' : max_sentiment_score_list\n",
    "})\n",
    "\n",
    "source = source[source['instagram posts count']!=0].reset_index(drop=True)"
   ]
  },
  {
   "cell_type": "code",
   "execution_count": 11,
   "metadata": {},
   "outputs": [],
   "source": [
    "chart = alt.Chart(source).mark_bar().encode(\n",
    "    x = alt.X('week',sort=['Jan 1st - Jan 5th','Jan 6th - Jan 12th','Jan 13th - Jan 19th','Jan 20th - Jan 26th','Jan 27th - Feb 2nd','Feb 3rd - Feb 9th','Feb 10th - Feb 16th','Feb 17th - Feb 23th','Feb 24th - Mar 1st','Mar 2nd - Mar 8th','Mar 9th - Mar 15th','Mar 16th - Mar 22th','Mar 23th - Mar 29th','Mar 30th - Apr 5th','Apr 6th - Apr 12th','Apr 13th - Apr 19th','Apr 20th - Apr 26th','Apr 27th - May 3rd','May 4th - May 10th','May 11th - May 17th','May 18th - May 24th']),\n",
    "    y = alt.Y('instagram posts count',stack=\"normalize\", axis=alt.Axis(format='%'), title = '% Posts'),\n",
    "    color = 'topic',\n",
    "    order = alt.Order('topic',sort='ascending'),\n",
    "    tooltip = ['topic','instagram posts count','median comments count','max comments count','median likes count','max likes count','median sentiment score','max sentiment score']\n",
    ").properties(\n",
    "    width=1100,\n",
    "    height=700,\n",
    "    title='Distribution of Topic Weekly'\n",
    ").configure_axis(\n",
    "    labelFontSize=11,\n",
    "    titleFontSize=20\n",
    ").configure_title(\n",
    "    fontSize=30\n",
    ").configure_legend(\n",
    "    labelFontSize=15\n",
    ").configure_axisX(\n",
    "    labelAngle = 0\n",
    ")"
   ]
  },
  {
   "cell_type": "code",
   "execution_count": 12,
   "metadata": {},
   "outputs": [],
   "source": [
    "chart.save('chart_output/insta_policy_user_level_weekly.html', embed_options={'renderer':'svg'})"
   ]
  }
 ],
 "metadata": {
  "language_info": {
   "codemirror_mode": {
    "name": "ipython",
    "version": 3
   },
   "file_extension": ".py",
   "mimetype": "text/x-python",
   "name": "python",
   "nbconvert_exporter": "python",
   "pygments_lexer": "ipython3",
   "version": "3.6.7-final"
  },
  "orig_nbformat": 2,
  "kernelspec": {
   "name": "189d4e60-b5b9-45fd-a760-8e03910b4404",
   "display_name": "'Python Interactive'"
  }
 },
 "nbformat": 4,
 "nbformat_minor": 2
}