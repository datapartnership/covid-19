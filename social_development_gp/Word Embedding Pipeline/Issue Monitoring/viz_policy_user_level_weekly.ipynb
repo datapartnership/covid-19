{
 "cells": [
  {
   "cell_type": "code",
   "execution_count": 1,
   "metadata": {},
   "outputs": [],
   "source": [
    "import pandas as pd\n",
    "import numpy as np\n",
    "from tqdm import tqdm\n",
    "import altair as alt"
   ]
  },
  {
   "cell_type": "code",
   "execution_count": 2,
   "metadata": {},
   "outputs": [],
   "source": [
    "df = pd.read_csv(\"F:/WB/Issue Monitoring/data/TOP_10_Evolution_Weekly_Issue_Keyword_user_level.csv\")\n",
    "\n",
    "df['verified'] = df['verified'].apply(lambda x: 1 if x==True else 0)"
   ]
  },
  {
   "cell_type": "code",
   "execution_count": 3,
   "metadata": {},
   "outputs": [
    {
     "output_type": "execute_result",
     "data": {
      "text/plain": "               user_id  tweets_count  week_of_the_year  favorite_count  \\\n0  1209811957768835072             1                13              22   \n1             49582053             1                13               0   \n2            190666622             4                13              80   \n3  1226050062762954757            77                19               0   \n4            380183734            21                20               0   \n\n   retweet_count  reply_count  verified  sentiment_score  \\\n0              3            7         0         0.166667   \n1              0            0         0         0.000000   \n2             31            3         0        -0.142857   \n3              0            0         0         0.000000   \n4              0            0         0         0.500000   \n\n   confidence in government  economic policy  employment  food access  \\\n0                       0.0              0.0         0.0          0.0   \n1                       0.0              0.0         0.0          0.0   \n2                       0.0              0.0         1.0          0.0   \n3                       0.0              0.0         0.0          0.0   \n4                       0.0              0.0         0.0          0.0   \n\n   health care  health protocol  mobility  stigma  \n0          0.0              1.0       1.0     0.0  \n1          1.0              0.0       0.0     0.0  \n2          1.0              0.0       0.0     0.0  \n3          0.0              0.0       0.0     0.0  \n4          0.0              0.0       0.0     0.0  ",
      "text/html": "<div>\n<style scoped>\n    .dataframe tbody tr th:only-of-type {\n        vertical-align: middle;\n    }\n\n    .dataframe tbody tr th {\n        vertical-align: top;\n    }\n\n    .dataframe thead th {\n        text-align: right;\n    }\n</style>\n<table border=\"1\" class=\"dataframe\">\n  <thead>\n    <tr style=\"text-align: right;\">\n      <th></th>\n      <th>user_id</th>\n      <th>tweets_count</th>\n      <th>week_of_the_year</th>\n      <th>favorite_count</th>\n      <th>retweet_count</th>\n      <th>reply_count</th>\n      <th>verified</th>\n      <th>sentiment_score</th>\n      <th>confidence in government</th>\n      <th>economic policy</th>\n      <th>employment</th>\n      <th>food access</th>\n      <th>health care</th>\n      <th>health protocol</th>\n      <th>mobility</th>\n      <th>stigma</th>\n    </tr>\n  </thead>\n  <tbody>\n    <tr>\n      <th>0</th>\n      <td>1209811957768835072</td>\n      <td>1</td>\n      <td>13</td>\n      <td>22</td>\n      <td>3</td>\n      <td>7</td>\n      <td>0</td>\n      <td>0.166667</td>\n      <td>0.0</td>\n      <td>0.0</td>\n      <td>0.0</td>\n      <td>0.0</td>\n      <td>0.0</td>\n      <td>1.0</td>\n      <td>1.0</td>\n      <td>0.0</td>\n    </tr>\n    <tr>\n      <th>1</th>\n      <td>49582053</td>\n      <td>1</td>\n      <td>13</td>\n      <td>0</td>\n      <td>0</td>\n      <td>0</td>\n      <td>0</td>\n      <td>0.000000</td>\n      <td>0.0</td>\n      <td>0.0</td>\n      <td>0.0</td>\n      <td>0.0</td>\n      <td>1.0</td>\n      <td>0.0</td>\n      <td>0.0</td>\n      <td>0.0</td>\n    </tr>\n    <tr>\n      <th>2</th>\n      <td>190666622</td>\n      <td>4</td>\n      <td>13</td>\n      <td>80</td>\n      <td>31</td>\n      <td>3</td>\n      <td>0</td>\n      <td>-0.142857</td>\n      <td>0.0</td>\n      <td>0.0</td>\n      <td>1.0</td>\n      <td>0.0</td>\n      <td>1.0</td>\n      <td>0.0</td>\n      <td>0.0</td>\n      <td>0.0</td>\n    </tr>\n    <tr>\n      <th>3</th>\n      <td>1226050062762954757</td>\n      <td>77</td>\n      <td>19</td>\n      <td>0</td>\n      <td>0</td>\n      <td>0</td>\n      <td>0</td>\n      <td>0.000000</td>\n      <td>0.0</td>\n      <td>0.0</td>\n      <td>0.0</td>\n      <td>0.0</td>\n      <td>0.0</td>\n      <td>0.0</td>\n      <td>0.0</td>\n      <td>0.0</td>\n    </tr>\n    <tr>\n      <th>4</th>\n      <td>380183734</td>\n      <td>21</td>\n      <td>20</td>\n      <td>0</td>\n      <td>0</td>\n      <td>0</td>\n      <td>0</td>\n      <td>0.500000</td>\n      <td>0.0</td>\n      <td>0.0</td>\n      <td>0.0</td>\n      <td>0.0</td>\n      <td>0.0</td>\n      <td>0.0</td>\n      <td>0.0</td>\n      <td>0.0</td>\n    </tr>\n  </tbody>\n</table>\n</div>"
     },
     "metadata": {},
     "execution_count": 3
    }
   ],
   "source": [
    "df.head()"
   ]
  },
  {
   "cell_type": "code",
   "execution_count": 4,
   "metadata": {},
   "outputs": [
    {
     "output_type": "execute_result",
     "data": {
      "text/plain": "array([13, 19, 20, 16, 22, 14, 15, 18, 17, 21, 23, 24], dtype=int64)"
     },
     "metadata": {},
     "execution_count": 4
    }
   ],
   "source": [
    "df['week_of_the_year'].unique()"
   ]
  },
  {
   "cell_type": "code",
   "execution_count": 5,
   "metadata": {},
   "outputs": [],
   "source": [
    "# week_dict = {}\n",
    "# for week in [11,12,13,14,15]:\n",
    "#     week_dict[str(week)] = {}\n",
    "#     tweets_count_dict = {}\n",
    "#     avg_favorite_count_dict = {}\n",
    "#     avg_retweet_count_dict = {}\n",
    "#     avg_reply_count_dict = {}\n",
    "#     avg_sentiment_score_dict = {}\n",
    "#     percent_verified_acc_dict = {}\n",
    "#     for topic in ['confidence in government','food access','health care','job loss','mask for all','social distancing','stigma','travel restrictions']:\n",
    "#         tweets_count = df[(df[topic]==1) & (df.week_of_the_year==week)]['tweets_count'].sum()\n",
    "#         tweets_count_series = df[(df[topic]==1) & (df.week_of_the_year==week)]['tweets_count']\n",
    "#         tweets_df_filter = df[(df[topic]==1) & (df.week_of_the_year==week)]\n",
    "#         tweets_count_dict[topic] = tweets_count\n",
    "#         avg_favorite_count_dict[topic] = np.sum(tweets_count_series*tweets_df_filter['favorite_count'])/tweets_count\n",
    "#         avg_retweet_count_dict[topic] = np.sum(tweets_count_series*tweets_df_filter['retweet_count'])/tweets_count\n",
    "#         avg_reply_count_dict[topic] = np.sum(tweets_count_series*tweets_df_filter['reply_count'])/tweets_count\n",
    "#         avg_sentiment_score_dict[topic] = np.sum(tweets_count_series*tweets_df_filter['sentiment_score'])/tweets_count\n",
    "#         percent_verified_acc_dict[topic] = 100*np.sum(tweets_count_series*tweets_df_filter['verified'])/tweets_count\n",
    "    \n",
    "#     week_dict[str(week)]['tweets_count'] = tweets_count_dict\n",
    "#     week_dict[str(week)]['avg_favorite_count'] = avg_favorite_count_dict\n",
    "#     week_dict[str(week)]['avg_retweet_count'] = avg_retweet_count_dict\n",
    "#     week_dict[str(week)]['avg_reply_count'] = avg_reply_count_dict\n",
    "#     week_dict[str(week)]['avg_sentiment_score'] = avg_sentiment_score_dict\n",
    "#     week_dict[str(week)]['percent_verified_acc'] = percent_verified_acc_dict"
   ]
  },
  {
   "cell_type": "code",
   "execution_count": 6,
   "metadata": {},
   "outputs": [
    {
     "output_type": "stream",
     "name": "stdout",
     "text": "Generating Stats for Week 13 and Topic confidence in government\nGenerating Stats for Week 13 and Topic economic policy\nGenerating Stats for Week 13 and Topic employment\nGenerating Stats for Week 13 and Topic food access\nGenerating Stats for Week 13 and Topic health care\nGenerating Stats for Week 13 and Topic health protocol\nGenerating Stats for Week 13 and Topic mobility\nGenerating Stats for Week 13 and Topic stigma\nGenerating Stats for Week 14 and Topic confidence in government\nGenerating Stats for Week 14 and Topic economic policy\nGenerating Stats for Week 14 and Topic employment\nGenerating Stats for Week 14 and Topic food access\nGenerating Stats for Week 14 and Topic health care\nGenerating Stats for Week 14 and Topic health protocol\nGenerating Stats for Week 14 and Topic mobility\nGenerating Stats for Week 14 and Topic stigma\nGenerating Stats for Week 15 and Topic confidence in government\nGenerating Stats for Week 15 and Topic economic policy\nGenerating Stats for Week 15 and Topic employment\nGenerating Stats for Week 15 and Topic food access\nGenerating Stats for Week 15 and Topic health care\nGenerating Stats for Week 15 and Topic health protocol\nGenerating Stats for Week 15 and Topic mobility\nGenerating Stats for Week 15 and Topic stigma\nGenerating Stats for Week 16 and Topic confidence in government\nGenerating Stats for Week 16 and Topic economic policy\nGenerating Stats for Week 16 and Topic employment\nGenerating Stats for Week 16 and Topic food access\nGenerating Stats for Week 16 and Topic health care\nGenerating Stats for Week 16 and Topic health protocol\nGenerating Stats for Week 16 and Topic mobility\nGenerating Stats for Week 16 and Topic stigma\nGenerating Stats for Week 17 and Topic confidence in government\nGenerating Stats for Week 17 and Topic economic policy\nGenerating Stats for Week 17 and Topic employment\nGenerating Stats for Week 17 and Topic food access\nGenerating Stats for Week 17 and Topic health care\nGenerating Stats for Week 17 and Topic health protocol\nGenerating Stats for Week 17 and Topic mobility\nGenerating Stats for Week 17 and Topic stigma\nGenerating Stats for Week 18 and Topic confidence in government\nGenerating Stats for Week 18 and Topic economic policy\nGenerating Stats for Week 18 and Topic employment\nGenerating Stats for Week 18 and Topic food access\nGenerating Stats for Week 18 and Topic health care\nGenerating Stats for Week 18 and Topic health protocol\nGenerating Stats for Week 18 and Topic mobility\nGenerating Stats for Week 18 and Topic stigma\nGenerating Stats for Week 19 and Topic confidence in government\nGenerating Stats for Week 19 and Topic economic policy\nGenerating Stats for Week 19 and Topic employment\nGenerating Stats for Week 19 and Topic food access\nGenerating Stats for Week 19 and Topic health care\nGenerating Stats for Week 19 and Topic health protocol\nGenerating Stats for Week 19 and Topic mobility\nGenerating Stats for Week 19 and Topic stigma\nGenerating Stats for Week 20 and Topic confidence in government\nGenerating Stats for Week 20 and Topic economic policy\nGenerating Stats for Week 20 and Topic employment\nGenerating Stats for Week 20 and Topic food access\nGenerating Stats for Week 20 and Topic health care\nGenerating Stats for Week 20 and Topic health protocol\nGenerating Stats for Week 20 and Topic mobility\nGenerating Stats for Week 20 and Topic stigma\nGenerating Stats for Week 21 and Topic confidence in government\nGenerating Stats for Week 21 and Topic economic policy\nGenerating Stats for Week 21 and Topic employment\nGenerating Stats for Week 21 and Topic food access\nGenerating Stats for Week 21 and Topic health care\nGenerating Stats for Week 21 and Topic health protocol\nGenerating Stats for Week 21 and Topic mobility\nGenerating Stats for Week 21 and Topic stigma\nGenerating Stats for Week 22 and Topic confidence in government\nGenerating Stats for Week 22 and Topic economic policy\nGenerating Stats for Week 22 and Topic employment\nGenerating Stats for Week 22 and Topic food access\nGenerating Stats for Week 22 and Topic health care\nGenerating Stats for Week 22 and Topic health protocol\nGenerating Stats for Week 22 and Topic mobility\nGenerating Stats for Week 22 and Topic stigma\nGenerating Stats for Week 23 and Topic confidence in government\nGenerating Stats for Week 23 and Topic economic policy\nGenerating Stats for Week 23 and Topic employment\nGenerating Stats for Week 23 and Topic food access\nGenerating Stats for Week 23 and Topic health care\nGenerating Stats for Week 23 and Topic health protocol\nGenerating Stats for Week 23 and Topic mobility\nGenerating Stats for Week 23 and Topic stigma\nGenerating Stats for Week 24 and Topic confidence in government\nGenerating Stats for Week 24 and Topic economic policy\nGenerating Stats for Week 24 and Topic employment\nGenerating Stats for Week 24 and Topic food access\nGenerating Stats for Week 24 and Topic health care\nGenerating Stats for Week 24 and Topic health protocol\nGenerating Stats for Week 24 and Topic mobility\nGenerating Stats for Week 24 and Topic stigma\n"
    }
   ],
   "source": [
    "week_dict = {}\n",
    "for week in [13,14,15,16,17,18,19,20,21,22,23,24]:\n",
    "    week_dict[str(week)] = {}\n",
    "    tweets_count_dict = {}\n",
    "    percent_verified_acc_dict = {}\n",
    "    median_favorite_count_dict = {}\n",
    "    median_retweet_count_dict = {}\n",
    "    median_reply_count_dict = {}\n",
    "    median_sentiment_score_dict = {}\n",
    "    max_favorite_count_dict = {}\n",
    "    max_retweet_count_dict = {}\n",
    "    max_reply_count_dict = {}\n",
    "    max_sentiment_score_dict = {}\n",
    "    for topic in ['confidence in government','economic policy','employment','food access','health care','health protocol','mobility','stigma']:\n",
    "        print('Generating Stats for Week {} and Topic {}'.format(week,topic))\n",
    "        filter_df = df[(df[topic]==1) & (df.week_of_the_year==week)].reset_index(drop=True)\n",
    "        tweets_count_dict[topic] = filter_df['tweets_count'].sum()\n",
    "        percent_verified_acc_dict[topic] = 100*np.sum(filter_df['tweets_count']*filter_df['verified'])/tweets_count_dict[topic]\n",
    "        max_favorite_count_dict[topic] = np.max(filter_df['favorite_count'])\n",
    "        max_retweet_count_dict[topic] = np.max(filter_df['retweet_count'])\n",
    "        max_reply_count_dict[topic] = np.max(filter_df['reply_count'])\n",
    "        max_sentiment_score_dict[topic] = np.max(filter_df['sentiment_score'])\n",
    "\n",
    "        favorite_count_list = []\n",
    "        retweet_count_list = []\n",
    "        reply_count_list = []\n",
    "        sentiment_score_list = []\n",
    "        for i in range(len(filter_df)):\n",
    "            for cnt in range(filter_df.loc[i,'tweets_count']):\n",
    "                favorite_count_list.append(filter_df.loc[i,'favorite_count'])\n",
    "                retweet_count_list.append(filter_df.loc[i,'retweet_count'])\n",
    "                reply_count_list.append(filter_df.loc[i,'reply_count'])\n",
    "                sentiment_score_list.append(filter_df.loc[i,'sentiment_score'])\n",
    "        median_favorite_count_dict[topic] = np.median(favorite_count_list)\n",
    "        median_retweet_count_dict[topic] = np.median(retweet_count_list)\n",
    "        median_reply_count_dict[topic] = np.median(reply_count_list)\n",
    "        median_sentiment_score_dict[topic] = np.median(sentiment_score_list)    \n",
    "    \n",
    "    week_dict[str(week)]['tweets_count'] = tweets_count_dict\n",
    "    week_dict[str(week)]['percent_verified_acc'] = percent_verified_acc_dict\n",
    "    week_dict[str(week)]['median_favorite_count'] = median_favorite_count_dict\n",
    "    week_dict[str(week)]['median_retweet_count'] = median_retweet_count_dict\n",
    "    week_dict[str(week)]['median_reply_count'] = median_reply_count_dict\n",
    "    week_dict[str(week)]['median_sentiment_score'] = median_sentiment_score_dict\n",
    "    week_dict[str(week)]['max_favorite_count'] = max_favorite_count_dict\n",
    "    week_dict[str(week)]['max_retweet_count'] = max_retweet_count_dict\n",
    "    week_dict[str(week)]['max_reply_count'] = max_reply_count_dict\n",
    "    week_dict[str(week)]['max_sentiment_score'] = max_sentiment_score_dict"
   ]
  },
  {
   "cell_type": "code",
   "execution_count": 7,
   "metadata": {},
   "outputs": [],
   "source": [
    "tweets_count_list = []\n",
    "percent_verified_acc_list = []\n",
    "median_favorite_count_list = []\n",
    "median_retweet_count_list = []\n",
    "median_reply_count_list = []\n",
    "median_sentiment_score_list = []\n",
    "max_favorite_count_list = []\n",
    "max_retweet_count_list = []\n",
    "max_reply_count_list = []\n",
    "max_sentiment_score_list = []\n",
    "for week in ['13','14','15','16','17','18','19','20','21','22','23','24']:\n",
    "    for topic in ['confidence in government','economic policy','employment','food access','health care','health protocol','mobility','stigma']:\n",
    "        tweets_count_list.append(week_dict[week]['tweets_count'][topic])\n",
    "        percent_verified_acc_list.append(week_dict[week]['percent_verified_acc'][topic])\n",
    "        median_favorite_count_list.append(week_dict[week]['median_favorite_count'][topic])\n",
    "        median_retweet_count_list.append(week_dict[week]['median_retweet_count'][topic])\n",
    "        median_reply_count_list.append(week_dict[week]['median_reply_count'][topic])\n",
    "        median_sentiment_score_list.append(week_dict[week]['median_sentiment_score'][topic])\n",
    "        max_favorite_count_list.append(week_dict[week]['max_favorite_count'][topic])\n",
    "        max_retweet_count_list.append(week_dict[week]['max_retweet_count'][topic])\n",
    "        max_reply_count_list.append(week_dict[week]['max_reply_count'][topic])\n",
    "        max_sentiment_score_list.append(week_dict[week]['max_sentiment_score'][topic])\n"
   ]
  },
  {
   "cell_type": "code",
   "execution_count": 8,
   "metadata": {},
   "outputs": [],
   "source": [
    "source = pd.DataFrame({\n",
    "    'week' :  ['Mar 23th - Mar 29th']*8 + ['Mar 30th - Apr 5th']*8 + ['Apr 6th - Apr 12th']*8 + ['Apr 13th - Apr 19th']*8 + ['Apr 20th - Apr 26th']*8 + ['Apr 27th - May 3th']*8 + ['May 4th - May 10th']*8 + ['May 11th - May 17th']*8 + ['May 18th - May 24th']*8 + ['May 25th - May 31th']*8 + ['June 1st - June 7th']*8 + ['June 8th - June 13th']*8,\n",
    "    'topic' : ['confidence in government','economic policy','employment','food access','health care','health protocol','mobility','stigma']*12,\n",
    "    'tweets count': tweets_count_list,\n",
    "    'median favorite count' : median_favorite_count_list,\n",
    "    'median retweet count' : median_retweet_count_list,\n",
    "    'median reply count' : median_reply_count_list,\n",
    "    'median sentiment score' : median_sentiment_score_list,\n",
    "    'max favorite count' : max_favorite_count_list,\n",
    "    'max retweet count' : max_retweet_count_list,\n",
    "    'max reply count' : max_reply_count_list,\n",
    "    'max sentiment score' : max_sentiment_score_list,\n",
    "    'percentage verified account' : percent_verified_acc_list\n",
    "})\n",
    "\n",
    "source = source[source['tweets count']!=0].reset_index(drop=True)"
   ]
  },
  {
   "cell_type": "code",
   "execution_count": 11,
   "metadata": {},
   "outputs": [],
   "source": [
    "chart = alt.Chart(source).mark_bar().encode(\n",
    "    x = alt.X('week', sort=['Mar 9th -  Mar 15th','Mar 16th - Mar 22th','Mar 23th - Mar 29th','Mar 30th - Apr 5th','Apr 6th - Apr 12th']),\n",
    "    y = alt.Y('tweets count',stack=\"normalize\", axis=alt.Axis(format='%'), title = '% Tweets'),\n",
    "    color = 'topic',\n",
    "    order = alt.Order('topic',sort='ascending'),\n",
    "    tooltip = ['topic','tweets count','median favorite count','max favorite count','median retweet count','max retweet count','median reply count','max reply count','median sentiment score','max sentiment score','percentage verified account']\n",
    ").properties(\n",
    "    width=1100,\n",
    "    height=700,\n",
    "    title='Distribution of Topic Weekly'\n",
    ").configure_axis(\n",
    "    labelFontSize=11,\n",
    "    titleFontSize=20\n",
    ").configure_title(\n",
    "    fontSize=30\n",
    ").configure_legend(\n",
    "    labelFontSize=15\n",
    ").configure_axisX(\n",
    "    labelAngle = 0\n",
    ")"
   ]
  },
  {
   "cell_type": "code",
   "execution_count": 12,
   "metadata": {},
   "outputs": [],
   "source": [
    "chart.save('chart_output/policy_user_level_weekly.html', embed_options={'renderer':'svg'})"
   ]
  }
 ],
 "metadata": {
  "language_info": {
   "codemirror_mode": {
    "name": "ipython",
    "version": 3
   },
   "file_extension": ".py",
   "mimetype": "text/x-python",
   "name": "python",
   "nbconvert_exporter": "python",
   "pygments_lexer": "ipython3",
   "version": "3.6.7-final"
  },
  "orig_nbformat": 2,
  "kernelspec": {
   "name": "189d4e60-b5b9-45fd-a760-8e03910b4404",
   "display_name": "'Python Interactive'"
  }
 },
 "nbformat": 4,
 "nbformat_minor": 2
}