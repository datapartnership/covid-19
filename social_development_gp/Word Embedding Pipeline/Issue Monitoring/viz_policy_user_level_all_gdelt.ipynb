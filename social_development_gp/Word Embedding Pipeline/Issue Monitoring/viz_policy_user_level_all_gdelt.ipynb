{
 "cells": [
  {
   "cell_type": "code",
   "execution_count": 1,
   "metadata": {},
   "outputs": [],
   "source": [
    "import pandas as pd\n",
    "import numpy as np\n",
    "from tqdm import tqdm\n",
    "import altair as alt"
   ]
  },
  {
   "cell_type": "code",
   "execution_count": 3,
   "metadata": {},
   "outputs": [],
   "source": [
    "df = pd.read_csv(\"F:/WB/Issue Monitoring/data/gdelt_TOP_10_Evolution_Weekly_Issue_Keyword_user_level.csv\")\n",
    "df=df.drop(columns=['week_of_the_year'])\n",
    "df['news_count'] = df['news_count'].astype(int)"
   ]
  },
  {
   "cell_type": "code",
   "execution_count": 4,
   "metadata": {},
   "outputs": [
    {
     "output_type": "stream",
     "name": "stdout",
     "text": "Generating Stats for Topic confidence in government\nGenerating Stats for Topic economic policy\nGenerating Stats for Topic employment\nGenerating Stats for Topic food access\nGenerating Stats for Topic health care\nGenerating Stats for Topic health protocol\nGenerating Stats for Topic mobility\nGenerating Stats for Topic stigma\n"
    }
   ],
   "source": [
    "news_count_dict = {}\n",
    "for topic in ['confidence in government','economic policy','employment','food access','health care','health protocol','mobility','stigma']:\n",
    "    print('Generating Stats for Topic {}'.format(topic))\n",
    "    filter_df = df[df[topic]==1].reset_index(drop=True)\n",
    "    news_count_dict[topic] = filter_df['news_count'].sum()"
   ]
  },
  {
   "cell_type": "code",
   "execution_count": 5,
   "metadata": {},
   "outputs": [],
   "source": [
    "source = pd.DataFrame({\n",
    "    'topic' : ['confidence in government','economic policy','employment','food access','health care','health protocol','mobility','stigma'],\n",
    "    'news count' : [news_count_dict['confidence in government'],news_count_dict['economic policy'],news_count_dict['employment'],news_count_dict['food access'],news_count_dict['health care'],news_count_dict['health protocol'],news_count_dict['mobility'],news_count_dict['stigma']]\n",
    "})\n",
    "\n",
    "source = source.sort_values(by='news count',ascending=False).reset_index(drop=True)"
   ]
  },
  {
   "cell_type": "code",
   "execution_count": 6,
   "metadata": {},
   "outputs": [
    {
     "output_type": "execute_result",
     "data": {
      "text/plain": "                      topic  news count\n0               food access      140083\n1  confidence in government       87818\n2                employment       77225\n3               health care       75689\n4                  mobility       74954\n5           health protocol       66471\n6           economic policy       17982\n7                    stigma       14160",
      "text/html": "<div>\n<style scoped>\n    .dataframe tbody tr th:only-of-type {\n        vertical-align: middle;\n    }\n\n    .dataframe tbody tr th {\n        vertical-align: top;\n    }\n\n    .dataframe thead th {\n        text-align: right;\n    }\n</style>\n<table border=\"1\" class=\"dataframe\">\n  <thead>\n    <tr style=\"text-align: right;\">\n      <th></th>\n      <th>topic</th>\n      <th>news count</th>\n    </tr>\n  </thead>\n  <tbody>\n    <tr>\n      <th>0</th>\n      <td>food access</td>\n      <td>140083</td>\n    </tr>\n    <tr>\n      <th>1</th>\n      <td>confidence in government</td>\n      <td>87818</td>\n    </tr>\n    <tr>\n      <th>2</th>\n      <td>employment</td>\n      <td>77225</td>\n    </tr>\n    <tr>\n      <th>3</th>\n      <td>health care</td>\n      <td>75689</td>\n    </tr>\n    <tr>\n      <th>4</th>\n      <td>mobility</td>\n      <td>74954</td>\n    </tr>\n    <tr>\n      <th>5</th>\n      <td>health protocol</td>\n      <td>66471</td>\n    </tr>\n    <tr>\n      <th>6</th>\n      <td>economic policy</td>\n      <td>17982</td>\n    </tr>\n    <tr>\n      <th>7</th>\n      <td>stigma</td>\n      <td>14160</td>\n    </tr>\n  </tbody>\n</table>\n</div>"
     },
     "metadata": {},
     "execution_count": 6
    }
   ],
   "source": [
    "source"
   ]
  },
  {
   "cell_type": "code",
   "execution_count": 7,
   "metadata": {},
   "outputs": [
    {
     "output_type": "execute_result",
     "data": {
      "text/html": "\n<div id=\"altair-viz-6d69254ca6fc48be97f7e16655c5d1bf\"></div>\n<script type=\"text/javascript\">\n  (function(spec, embedOpt){\n    let outputDiv = document.currentScript.previousElementSibling;\n    if (outputDiv.id !== \"altair-viz-6d69254ca6fc48be97f7e16655c5d1bf\") {\n      outputDiv = document.getElementById(\"altair-viz-6d69254ca6fc48be97f7e16655c5d1bf\");\n    }\n    const paths = {\n      \"vega\": \"https://cdn.jsdelivr.net/npm//vega@5?noext\",\n      \"vega-lib\": \"https://cdn.jsdelivr.net/npm//vega-lib?noext\",\n      \"vega-lite\": \"https://cdn.jsdelivr.net/npm//vega-lite@4.8.1?noext\",\n      \"vega-embed\": \"https://cdn.jsdelivr.net/npm//vega-embed@6?noext\",\n    };\n\n    function loadScript(lib) {\n      return new Promise(function(resolve, reject) {\n        var s = document.createElement('script');\n        s.src = paths[lib];\n        s.async = true;\n        s.onload = () => resolve(paths[lib]);\n        s.onerror = () => reject(`Error loading script: ${paths[lib]}`);\n        document.getElementsByTagName(\"head\")[0].appendChild(s);\n      });\n    }\n\n    function showError(err) {\n      outputDiv.innerHTML = `<div class=\"error\" style=\"color:red;\">${err}</div>`;\n      throw err;\n    }\n\n    function displayChart(vegaEmbed) {\n      vegaEmbed(outputDiv, spec, embedOpt)\n        .catch(err => showError(`Javascript Error: ${err.message}<br>This usually means there's a typo in your chart specification. See the javascript console for the full traceback.`));\n    }\n\n    if(typeof define === \"function\" && define.amd) {\n      requirejs.config({paths});\n      require([\"vega-embed\"], displayChart, err => showError(`Error loading script: ${err.message}`));\n    } else if (typeof vegaEmbed === \"function\") {\n      displayChart(vegaEmbed);\n    } else {\n      loadScript(\"vega\")\n        .then(() => loadScript(\"vega-lite\"))\n        .then(() => loadScript(\"vega-embed\"))\n        .catch(showError)\n        .then(() => displayChart(vegaEmbed));\n    }\n  })({\"config\": {\"view\": {\"continuousWidth\": 400, \"continuousHeight\": 300}, \"axis\": {\"labelFontSize\": 15, \"titleFontSize\": 20}, \"axisX\": {\"labelAngle\": -15}, \"title\": {\"fontSize\": 30}}, \"data\": {\"name\": \"data-a101bc9524113598c78f5de38ce0baf7\"}, \"mark\": \"bar\", \"encoding\": {\"x\": {\"type\": \"quantitative\", \"field\": \"news count\"}, \"y\": {\"type\": \"nominal\", \"field\": \"topic\", \"sort\": \"-x\"}}, \"height\": 600, \"title\": \"Distribution of Topic\", \"width\": 1000, \"$schema\": \"https://vega.github.io/schema/vega-lite/v4.8.1.json\", \"datasets\": {\"data-a101bc9524113598c78f5de38ce0baf7\": [{\"topic\": \"food access\", \"news count\": 140083}, {\"topic\": \"confidence in government\", \"news count\": 87818}, {\"topic\": \"employment\", \"news count\": 77225}, {\"topic\": \"health care\", \"news count\": 75689}, {\"topic\": \"mobility\", \"news count\": 74954}, {\"topic\": \"health protocol\", \"news count\": 66471}, {\"topic\": \"economic policy\", \"news count\": 17982}, {\"topic\": \"stigma\", \"news count\": 14160}]}}, {\"mode\": \"vega-lite\"});\n</script>",
      "text/plain": "alt.Chart(...)"
     },
     "metadata": {},
     "execution_count": 7
    }
   ],
   "source": [
    "alt.Chart(source).mark_bar().encode(\n",
    "    y=alt.Y('topic',sort='-x'),\n",
    "    x='news count',\n",
    ").properties(\n",
    "    width=1000,\n",
    "    height=600,\n",
    "    title='Distribution of Topic'\n",
    ").configure_axis(\n",
    "    labelFontSize=15,\n",
    "    titleFontSize=20\n",
    ").configure_title(\n",
    "    fontSize=30\n",
    ").configure_axisX(\n",
    "    labelAngle = -15\n",
    ")"
   ]
  }
 ],
 "metadata": {
  "language_info": {
   "codemirror_mode": {
    "name": "ipython",
    "version": 3
   },
   "file_extension": ".py",
   "mimetype": "text/x-python",
   "name": "python",
   "nbconvert_exporter": "python",
   "pygments_lexer": "ipython3",
   "version": "3.6.7-final"
  },
  "orig_nbformat": 2,
  "kernelspec": {
   "name": "189d4e60-b5b9-45fd-a760-8e03910b4404",
   "display_name": "'Python Interactive'"
  }
 },
 "nbformat": 4,
 "nbformat_minor": 2
}