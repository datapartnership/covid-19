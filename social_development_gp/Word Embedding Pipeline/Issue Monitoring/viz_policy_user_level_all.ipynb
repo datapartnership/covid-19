{
 "cells": [
  {
   "cell_type": "code",
   "execution_count": 1,
   "metadata": {},
   "outputs": [],
   "source": [
    "import pandas as pd\n",
    "import numpy as np\n",
    "from tqdm import tqdm\n",
    "import altair as alt"
   ]
  },
  {
   "cell_type": "code",
   "execution_count": 2,
   "metadata": {},
   "outputs": [],
   "source": [
    "df = pd.read_csv(\"F:/WB/Issue Monitoring/data/TOP_10_Evolution_Weekly_Issue_Keyword_user_level.csv\")\n",
    "df=df.drop(columns=['week_of_the_year'])\n",
    "df['verified'] = df['verified'].apply(lambda x: 1 if x==True else 0)"
   ]
  },
  {
   "cell_type": "code",
   "execution_count": 3,
   "metadata": {},
   "outputs": [
    {
     "output_type": "execute_result",
     "data": {
      "text/plain": "               user_id  tweets_count  favorite_count  retweet_count  \\\n0  1209811957768835072             1              22              3   \n1             49582053             1               0              0   \n2            190666622             4              80             31   \n3  1226050062762954757            77               0              0   \n4            380183734            21               0              0   \n\n   reply_count  verified  sentiment_score  confidence in government  \\\n0            7         0         0.166667                       0.0   \n1            0         0         0.000000                       0.0   \n2            3         0        -0.142857                       0.0   \n3            0         0         0.000000                       0.0   \n4            0         0         0.500000                       0.0   \n\n   economic policy  employment  food access  health care  health protocol  \\\n0              0.0         0.0          0.0          0.0              1.0   \n1              0.0         0.0          0.0          1.0              0.0   \n2              0.0         1.0          0.0          1.0              0.0   \n3              0.0         0.0          0.0          0.0              0.0   \n4              0.0         0.0          0.0          0.0              0.0   \n\n   mobility  stigma  \n0       1.0     0.0  \n1       0.0     0.0  \n2       0.0     0.0  \n3       0.0     0.0  \n4       0.0     0.0  ",
      "text/html": "<div>\n<style scoped>\n    .dataframe tbody tr th:only-of-type {\n        vertical-align: middle;\n    }\n\n    .dataframe tbody tr th {\n        vertical-align: top;\n    }\n\n    .dataframe thead th {\n        text-align: right;\n    }\n</style>\n<table border=\"1\" class=\"dataframe\">\n  <thead>\n    <tr style=\"text-align: right;\">\n      <th></th>\n      <th>user_id</th>\n      <th>tweets_count</th>\n      <th>favorite_count</th>\n      <th>retweet_count</th>\n      <th>reply_count</th>\n      <th>verified</th>\n      <th>sentiment_score</th>\n      <th>confidence in government</th>\n      <th>economic policy</th>\n      <th>employment</th>\n      <th>food access</th>\n      <th>health care</th>\n      <th>health protocol</th>\n      <th>mobility</th>\n      <th>stigma</th>\n    </tr>\n  </thead>\n  <tbody>\n    <tr>\n      <th>0</th>\n      <td>1209811957768835072</td>\n      <td>1</td>\n      <td>22</td>\n      <td>3</td>\n      <td>7</td>\n      <td>0</td>\n      <td>0.166667</td>\n      <td>0.0</td>\n      <td>0.0</td>\n      <td>0.0</td>\n      <td>0.0</td>\n      <td>0.0</td>\n      <td>1.0</td>\n      <td>1.0</td>\n      <td>0.0</td>\n    </tr>\n    <tr>\n      <th>1</th>\n      <td>49582053</td>\n      <td>1</td>\n      <td>0</td>\n      <td>0</td>\n      <td>0</td>\n      <td>0</td>\n      <td>0.000000</td>\n      <td>0.0</td>\n      <td>0.0</td>\n      <td>0.0</td>\n      <td>0.0</td>\n      <td>1.0</td>\n      <td>0.0</td>\n      <td>0.0</td>\n      <td>0.0</td>\n    </tr>\n    <tr>\n      <th>2</th>\n      <td>190666622</td>\n      <td>4</td>\n      <td>80</td>\n      <td>31</td>\n      <td>3</td>\n      <td>0</td>\n      <td>-0.142857</td>\n      <td>0.0</td>\n      <td>0.0</td>\n      <td>1.0</td>\n      <td>0.0</td>\n      <td>1.0</td>\n      <td>0.0</td>\n      <td>0.0</td>\n      <td>0.0</td>\n    </tr>\n    <tr>\n      <th>3</th>\n      <td>1226050062762954757</td>\n      <td>77</td>\n      <td>0</td>\n      <td>0</td>\n      <td>0</td>\n      <td>0</td>\n      <td>0.000000</td>\n      <td>0.0</td>\n      <td>0.0</td>\n      <td>0.0</td>\n      <td>0.0</td>\n      <td>0.0</td>\n      <td>0.0</td>\n      <td>0.0</td>\n      <td>0.0</td>\n    </tr>\n    <tr>\n      <th>4</th>\n      <td>380183734</td>\n      <td>21</td>\n      <td>0</td>\n      <td>0</td>\n      <td>0</td>\n      <td>0</td>\n      <td>0.500000</td>\n      <td>0.0</td>\n      <td>0.0</td>\n      <td>0.0</td>\n      <td>0.0</td>\n      <td>0.0</td>\n      <td>0.0</td>\n      <td>0.0</td>\n      <td>0.0</td>\n    </tr>\n  </tbody>\n</table>\n</div>"
     },
     "metadata": {},
     "execution_count": 3
    }
   ],
   "source": [
    "df.head()"
   ]
  },
  {
   "cell_type": "code",
   "execution_count": 4,
   "metadata": {},
   "outputs": [],
   "source": [
    "# tweets_count_dict = {}\n",
    "# avg_favorite_count_dict = {}\n",
    "# avg_retweet_count_dict = {}\n",
    "# avg_reply_count_dict = {}\n",
    "# avg_sentiment_score_dict = {}\n",
    "# percent_verified_acc_dict = {}\n",
    "# for topic in ['confidence in government','food access','health care','job loss','mask for all','social distancing','stigma','travel restrictions']:\n",
    "#     tweets_count = df[df[topic]==1]['tweets_count'].sum()\n",
    "#     tweets_count_dict[topic] = tweets_count\n",
    "#     avg_favorite_count_dict[topic] = np.sum(df[df[topic]==1]['tweets_count']*df[df[topic]==1]['favorite_count'])/tweets_count\n",
    "#     avg_retweet_count_dict[topic] = np.sum(df[df[topic]==1]['tweets_count']*df[df[topic]==1]['retweet_count'])/tweets_count\n",
    "#     avg_reply_count_dict[topic] = np.sum(df[df[topic]==1]['tweets_count']*df[df[topic]==1]['reply_count'])/tweets_count\n",
    "#     avg_sentiment_score_dict[topic] = np.sum(df[df[topic]==1]['tweets_count']*df[df[topic]==1]['sentiment_score'])/tweets_count\n",
    "#     percent_verified_acc_dict[topic] = 100*np.sum(df[df[topic]==1]['tweets_count']*df[df[topic]==1]['verified'])/tweets_count\n"
   ]
  },
  {
   "cell_type": "code",
   "execution_count": 4,
   "metadata": {},
   "outputs": [
    {
     "output_type": "stream",
     "name": "stdout",
     "text": "Generating Stats for Topic confidence in government\nGenerating Stats for Topic economic policy\nGenerating Stats for Topic employment\nGenerating Stats for Topic food access\nGenerating Stats for Topic health care\nGenerating Stats for Topic health protocol\nGenerating Stats for Topic mobility\nGenerating Stats for Topic stigma\n"
    }
   ],
   "source": [
    "tweets_count_dict = {}\n",
    "percent_verified_acc_dict = {}\n",
    "median_favorite_count_dict = {}\n",
    "median_retweet_count_dict = {}\n",
    "median_reply_count_dict = {}\n",
    "median_sentiment_score_dict = {}\n",
    "max_favorite_count_dict = {}\n",
    "max_retweet_count_dict = {}\n",
    "max_reply_count_dict = {}\n",
    "max_sentiment_score_dict = {}\n",
    "for topic in ['confidence in government','economic policy','employment','food access','health care','health protocol','mobility','stigma']:\n",
    "    print('Generating Stats for Topic {}'.format(topic))\n",
    "    filter_df = df[df[topic]==1].reset_index(drop=True)\n",
    "    tweets_count_dict[topic] = filter_df['tweets_count'].sum()\n",
    "    percent_verified_acc_dict[topic] = 100*np.sum(filter_df['tweets_count']*filter_df['verified'])/tweets_count_dict[topic]\n",
    "    max_favorite_count_dict[topic] = np.max(filter_df['favorite_count'])\n",
    "    max_retweet_count_dict[topic] = np.max(filter_df['retweet_count'])\n",
    "    max_reply_count_dict[topic] = np.max(filter_df['reply_count'])\n",
    "    max_sentiment_score_dict[topic] = np.max(filter_df['sentiment_score'])\n",
    "\n",
    "\n",
    "    favorite_count_list = []\n",
    "    retweet_count_list = []\n",
    "    reply_count_list = []\n",
    "    sentiment_score_list = []\n",
    "    for i in range(len(filter_df)):\n",
    "        for cnt in range(filter_df.loc[i,'tweets_count']):\n",
    "            favorite_count_list.append(filter_df.loc[i,'favorite_count'])\n",
    "            retweet_count_list.append(filter_df.loc[i,'retweet_count'])\n",
    "            reply_count_list.append(filter_df.loc[i,'reply_count'])\n",
    "            sentiment_score_list.append(filter_df.loc[i,'sentiment_score'])\n",
    "    median_favorite_count_dict[topic] = np.median(favorite_count_list)\n",
    "    median_retweet_count_dict[topic] = np.median(retweet_count_list)\n",
    "    median_reply_count_dict[topic] = np.median(reply_count_list)\n",
    "    median_sentiment_score_dict[topic] = np.median(sentiment_score_list)"
   ]
  },
  {
   "cell_type": "code",
   "execution_count": 5,
   "metadata": {},
   "outputs": [],
   "source": [
    "source = pd.DataFrame({\n",
    "    'topic' : ['confidence in government','economic policy','employment','food access','health care','health protocol','mobility','stigma'],\n",
    "    'tweets count' : [tweets_count_dict['confidence in government'],tweets_count_dict['economic policy'],tweets_count_dict['employment'],tweets_count_dict['food access'],tweets_count_dict['health care'],tweets_count_dict['health protocol'],tweets_count_dict['mobility'],tweets_count_dict['stigma']],\n",
    "    'median favorite count':[median_favorite_count_dict['confidence in government'],median_favorite_count_dict['economic policy'],median_favorite_count_dict['employment'],median_favorite_count_dict['food access'],median_favorite_count_dict['health care'],median_favorite_count_dict['health protocol'],median_favorite_count_dict['mobility'],median_favorite_count_dict['stigma']],\n",
    "    'median retweet count':[median_retweet_count_dict['confidence in government'],median_retweet_count_dict['economic policy'],median_retweet_count_dict['employment'],median_retweet_count_dict['food access'],median_retweet_count_dict['health care'],median_retweet_count_dict['health protocol'],median_retweet_count_dict['mobility'],median_retweet_count_dict['stigma']],\n",
    "    'median reply count':[median_reply_count_dict['confidence in government'],median_reply_count_dict['economic policy'],median_reply_count_dict['employment'],median_reply_count_dict['food access'],median_reply_count_dict['health care'],median_reply_count_dict['health protocol'],median_reply_count_dict['mobility'],median_reply_count_dict['stigma']],\n",
    "    'median sentiment score':[median_sentiment_score_dict['confidence in government'],median_sentiment_score_dict['economic policy'],median_sentiment_score_dict['employment'],median_sentiment_score_dict['food access'],median_sentiment_score_dict['health care'],median_sentiment_score_dict['health protocol'],median_sentiment_score_dict['mobility'],median_sentiment_score_dict['stigma']],\n",
    "    'percentage verified account':[percent_verified_acc_dict['confidence in government'],percent_verified_acc_dict['economic policy'],percent_verified_acc_dict['employment'],percent_verified_acc_dict['food access'],percent_verified_acc_dict['health care'],percent_verified_acc_dict['health protocol'],percent_verified_acc_dict['mobility'],percent_verified_acc_dict['stigma']],\n",
    "    'max favorite count' : [max_favorite_count_dict['confidence in government'],max_favorite_count_dict['economic policy'],max_favorite_count_dict['employment'],max_favorite_count_dict['food access'],max_favorite_count_dict['health care'],max_favorite_count_dict['health protocol'],max_favorite_count_dict['mobility'],max_favorite_count_dict['stigma']],\n",
    "    'max retweet count' : [max_retweet_count_dict['confidence in government'],max_retweet_count_dict['economic policy'],max_retweet_count_dict['employment'],max_retweet_count_dict['food access'],max_retweet_count_dict['health care'],max_retweet_count_dict['health protocol'],max_retweet_count_dict['mobility'],max_retweet_count_dict['stigma']],\n",
    "    'max reply count' : [max_reply_count_dict['confidence in government'],max_reply_count_dict['economic policy'],max_reply_count_dict['employment'],max_reply_count_dict['food access'],max_reply_count_dict['health care'],max_reply_count_dict['health protocol'],max_reply_count_dict['mobility'],max_reply_count_dict['stigma']],\n",
    "    'max sentiment score' : [max_sentiment_score_dict['confidence in government'],max_sentiment_score_dict['economic policy'],max_sentiment_score_dict['employment'],max_sentiment_score_dict['food access'],max_sentiment_score_dict['health care'],max_sentiment_score_dict['health protocol'],max_sentiment_score_dict['mobility'],max_sentiment_score_dict['stigma']],\n",
    "})\n",
    "\n",
    "source = source.sort_values(by='tweets count',ascending=False).reset_index(drop=True)"
   ]
  },
  {
   "cell_type": "code",
   "execution_count": 6,
   "metadata": {},
   "outputs": [
    {
     "output_type": "execute_result",
     "data": {
      "text/plain": "                      topic  tweets count  median favorite count  \\\n0  confidence in government       1295563                    0.0   \n1                employment       1234644                    0.0   \n2           health protocol        999043                    0.0   \n3               food access        908424                    0.0   \n4                  mobility        905211                    0.0   \n5               health care        468828                    0.0   \n6                    stigma        323383                    0.0   \n7           economic policy        317289                    0.0   \n\n   median retweet count  median reply count  median sentiment score  \\\n0                   0.0                 0.0                0.047619   \n1                   0.0                 0.0                0.055556   \n2                   0.0                 0.0                0.071429   \n3                   0.0                 0.0                0.083333   \n4                   0.0                 0.0                0.037037   \n5                   0.0                 0.0                0.055556   \n6                   0.0                 0.0                0.000000   \n7                   0.0                 0.0                0.058824   \n\n   percentage verified account  max favorite count  max retweet count  \\\n0                    14.361092               54203              17924   \n1                    13.693664               54203              17924   \n2                    14.955012               24022               8637   \n3                    16.806359               60068              17924   \n4                    16.062443               17933               7363   \n5                    17.194366               35039              15794   \n6                    15.836949               54203              17924   \n7                    19.443157               10984               5001   \n\n   max reply count  max sentiment score  \n0             3847                  1.0  \n1             3847                  1.0  \n2             1372                  1.0  \n3             6083                  1.0  \n4             6083                  1.0  \n5             2034                  1.0  \n6             3847                  1.0  \n7             1386                  1.0  ",
      "text/html": "<div>\n<style scoped>\n    .dataframe tbody tr th:only-of-type {\n        vertical-align: middle;\n    }\n\n    .dataframe tbody tr th {\n        vertical-align: top;\n    }\n\n    .dataframe thead th {\n        text-align: right;\n    }\n</style>\n<table border=\"1\" class=\"dataframe\">\n  <thead>\n    <tr style=\"text-align: right;\">\n      <th></th>\n      <th>topic</th>\n      <th>tweets count</th>\n      <th>median favorite count</th>\n      <th>median retweet count</th>\n      <th>median reply count</th>\n      <th>median sentiment score</th>\n      <th>percentage verified account</th>\n      <th>max favorite count</th>\n      <th>max retweet count</th>\n      <th>max reply count</th>\n      <th>max sentiment score</th>\n    </tr>\n  </thead>\n  <tbody>\n    <tr>\n      <th>0</th>\n      <td>confidence in government</td>\n      <td>1295563</td>\n      <td>0.0</td>\n      <td>0.0</td>\n      <td>0.0</td>\n      <td>0.047619</td>\n      <td>14.361092</td>\n      <td>54203</td>\n      <td>17924</td>\n      <td>3847</td>\n      <td>1.0</td>\n    </tr>\n    <tr>\n      <th>1</th>\n      <td>employment</td>\n      <td>1234644</td>\n      <td>0.0</td>\n      <td>0.0</td>\n      <td>0.0</td>\n      <td>0.055556</td>\n      <td>13.693664</td>\n      <td>54203</td>\n      <td>17924</td>\n      <td>3847</td>\n      <td>1.0</td>\n    </tr>\n    <tr>\n      <th>2</th>\n      <td>health protocol</td>\n      <td>999043</td>\n      <td>0.0</td>\n      <td>0.0</td>\n      <td>0.0</td>\n      <td>0.071429</td>\n      <td>14.955012</td>\n      <td>24022</td>\n      <td>8637</td>\n      <td>1372</td>\n      <td>1.0</td>\n    </tr>\n    <tr>\n      <th>3</th>\n      <td>food access</td>\n      <td>908424</td>\n      <td>0.0</td>\n      <td>0.0</td>\n      <td>0.0</td>\n      <td>0.083333</td>\n      <td>16.806359</td>\n      <td>60068</td>\n      <td>17924</td>\n      <td>6083</td>\n      <td>1.0</td>\n    </tr>\n    <tr>\n      <th>4</th>\n      <td>mobility</td>\n      <td>905211</td>\n      <td>0.0</td>\n      <td>0.0</td>\n      <td>0.0</td>\n      <td>0.037037</td>\n      <td>16.062443</td>\n      <td>17933</td>\n      <td>7363</td>\n      <td>6083</td>\n      <td>1.0</td>\n    </tr>\n    <tr>\n      <th>5</th>\n      <td>health care</td>\n      <td>468828</td>\n      <td>0.0</td>\n      <td>0.0</td>\n      <td>0.0</td>\n      <td>0.055556</td>\n      <td>17.194366</td>\n      <td>35039</td>\n      <td>15794</td>\n      <td>2034</td>\n      <td>1.0</td>\n    </tr>\n    <tr>\n      <th>6</th>\n      <td>stigma</td>\n      <td>323383</td>\n      <td>0.0</td>\n      <td>0.0</td>\n      <td>0.0</td>\n      <td>0.000000</td>\n      <td>15.836949</td>\n      <td>54203</td>\n      <td>17924</td>\n      <td>3847</td>\n      <td>1.0</td>\n    </tr>\n    <tr>\n      <th>7</th>\n      <td>economic policy</td>\n      <td>317289</td>\n      <td>0.0</td>\n      <td>0.0</td>\n      <td>0.0</td>\n      <td>0.058824</td>\n      <td>19.443157</td>\n      <td>10984</td>\n      <td>5001</td>\n      <td>1386</td>\n      <td>1.0</td>\n    </tr>\n  </tbody>\n</table>\n</div>"
     },
     "metadata": {},
     "execution_count": 6
    }
   ],
   "source": [
    "source"
   ]
  },
  {
   "cell_type": "code",
   "execution_count": 7,
   "metadata": {},
   "outputs": [],
   "source": [
    "chart = alt.Chart(source).mark_bar().encode(\n",
    "    y=alt.Y('topic',sort='-x'),\n",
    "    x='tweets count',\n",
    "    tooltip = ['median favorite count','max favorite count','median retweet count','max retweet count','median reply count','max reply count','median sentiment score','max sentiment score','percentage verified account']\n",
    ").properties(\n",
    "    width=1000,\n",
    "    height=600,\n",
    "    title='Distribution of Topic'\n",
    ").configure_axis(\n",
    "    labelFontSize=15,\n",
    "    titleFontSize=20\n",
    ").configure_title(\n",
    "    fontSize=30\n",
    ").configure_axisX(\n",
    "    labelAngle = -15\n",
    ")"
   ]
  },
  {
   "cell_type": "code",
   "execution_count": 8,
   "metadata": {},
   "outputs": [],
   "source": [
    "chart.save('chart_output/policy_user_level_all.html', embed_options={'renderer':'svg'})"
   ]
  }
 ],
 "metadata": {
  "language_info": {
   "codemirror_mode": {
    "name": "ipython",
    "version": 3
   },
   "file_extension": ".py",
   "mimetype": "text/x-python",
   "name": "python",
   "nbconvert_exporter": "python",
   "pygments_lexer": "ipython3",
   "version": "3.6.7-final"
  },
  "orig_nbformat": 2,
  "kernelspec": {
   "name": "189d4e60-b5b9-45fd-a760-8e03910b4404",
   "display_name": "'Python Interactive'"
  }
 },
 "nbformat": 4,
 "nbformat_minor": 2
}