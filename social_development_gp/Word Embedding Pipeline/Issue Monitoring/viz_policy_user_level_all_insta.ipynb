{
 "cells": [
  {
   "cell_type": "code",
   "execution_count": 1,
   "metadata": {},
   "outputs": [],
   "source": [
    "import pandas as pd\n",
    "import numpy as np\n",
    "from tqdm import tqdm\n",
    "import altair as alt"
   ]
  },
  {
   "cell_type": "code",
   "execution_count": 2,
   "metadata": {},
   "outputs": [],
   "source": [
    "df = pd.read_csv(\"F:/WB/Issue Monitoring/data/insta_TOP_10_Evolution_Weekly_Issue_Keyword_user_level.csv\")\n",
    "df=df.drop(columns=['week_of_the_year'])\n",
    "df['tweets_count'] = df['tweets_count'].astype(int)"
   ]
  },
  {
   "cell_type": "code",
   "execution_count": 3,
   "metadata": {},
   "outputs": [
    {
     "output_type": "stream",
     "name": "stdout",
     "text": "Generating Stats for Topic confidence in government\nGenerating Stats for Topic economic policy\nGenerating Stats for Topic employment\nGenerating Stats for Topic food access\nGenerating Stats for Topic health care\nGenerating Stats for Topic health protocol\nGenerating Stats for Topic mobility\nGenerating Stats for Topic stigma\n"
    }
   ],
   "source": [
    "tweets_count_dict = {}\n",
    "median_comments_count_dict = {}\n",
    "median_likes_count_dict = {}\n",
    "median_sentiment_score_dict = {}\n",
    "max_comments_count_dict = {}\n",
    "max_likes_count_dict = {}\n",
    "max_sentiment_score_dict = {}\n",
    "for topic in ['confidence in government','economic policy','employment','food access','health care','health protocol','mobility','stigma']:\n",
    "    print('Generating Stats for Topic {}'.format(topic))\n",
    "    filter_df = df[df[topic]==1].reset_index(drop=True)\n",
    "    tweets_count_dict[topic] = filter_df['tweets_count'].sum()\n",
    "    max_comments_count_dict[topic] = np.max(filter_df['comments_count'])\n",
    "    max_likes_count_dict[topic] = np.max(filter_df['likes_count'])\n",
    "    max_sentiment_score_dict[topic] = np.max(filter_df['sentiment_score'])\n",
    "\n",
    "\n",
    "    favorite_count_list = []\n",
    "    comments_count_list = []\n",
    "    likes_count_list = []\n",
    "    sentiment_score_list = []\n",
    "    for i in range(len(filter_df)):\n",
    "        for cnt in range(filter_df.loc[i,'tweets_count']):\n",
    "            comments_count_list.append(filter_df.loc[i,'comments_count'])\n",
    "            likes_count_list.append(filter_df.loc[i,'likes_count'])\n",
    "            sentiment_score_list.append(filter_df.loc[i,'sentiment_score'])\n",
    "    median_comments_count_dict[topic] = np.median(comments_count_list)\n",
    "    median_likes_count_dict[topic] = np.median(likes_count_list)\n",
    "    median_sentiment_score_dict[topic] = np.median(sentiment_score_list)"
   ]
  },
  {
   "cell_type": "code",
   "execution_count": 4,
   "metadata": {},
   "outputs": [],
   "source": [
    "source = pd.DataFrame({\n",
    "    'topic' : ['confidence in government','economic policy','employment','food access','health care','health protocol','mobility','stigma'],\n",
    "    'instagram posts count' : [tweets_count_dict['confidence in government'],tweets_count_dict['economic policy'],tweets_count_dict['employment'],tweets_count_dict['food access'],tweets_count_dict['health care'],tweets_count_dict['health protocol'],tweets_count_dict['mobility'],tweets_count_dict['stigma']],\n",
    "    'median comments count':[median_comments_count_dict['confidence in government'],median_comments_count_dict['economic policy'],median_comments_count_dict['employment'],median_comments_count_dict['food access'],median_comments_count_dict['health care'],median_comments_count_dict['health protocol'],median_comments_count_dict['mobility'],median_comments_count_dict['stigma']],\n",
    "    'median likes count':[median_likes_count_dict['confidence in government'],median_likes_count_dict['economic policy'],median_likes_count_dict['employment'],median_likes_count_dict['food access'],median_likes_count_dict['health care'],median_likes_count_dict['health protocol'],median_likes_count_dict['mobility'],median_likes_count_dict['stigma']],\n",
    "    'median sentiment score' : [median_sentiment_score_dict['confidence in government'],median_sentiment_score_dict['economic policy'],median_sentiment_score_dict['employment'],median_sentiment_score_dict['food access'],median_sentiment_score_dict['health care'],median_sentiment_score_dict['health protocol'],median_sentiment_score_dict['mobility'],median_sentiment_score_dict['stigma']],\n",
    "    'max comments count' : [max_comments_count_dict['confidence in government'],max_comments_count_dict['economic policy'],max_comments_count_dict['employment'],max_comments_count_dict['food access'],max_comments_count_dict['health care'],max_comments_count_dict['health protocol'],max_comments_count_dict['mobility'],max_comments_count_dict['stigma']],\n",
    "    'max likes count' : [max_likes_count_dict['confidence in government'],max_likes_count_dict['economic policy'],max_likes_count_dict['employment'],max_likes_count_dict['food access'],max_likes_count_dict['health care'],max_likes_count_dict['health protocol'],max_likes_count_dict['mobility'],max_likes_count_dict['stigma']],\n",
    "    'max sentiment score' : [max_sentiment_score_dict['confidence in government'],max_sentiment_score_dict['economic policy'],max_sentiment_score_dict['employment'],max_sentiment_score_dict['food access'],max_sentiment_score_dict['health care'],max_sentiment_score_dict['health protocol'],max_sentiment_score_dict['mobility'],max_sentiment_score_dict['stigma']],\n",
    "})\n",
    "\n",
    "source = source.sort_values(by='instagram posts count',ascending=False).reset_index(drop=True)"
   ]
  },
  {
   "cell_type": "code",
   "execution_count": 5,
   "metadata": {},
   "outputs": [],
   "source": [
    "chart = alt.Chart(source).mark_bar().encode(\n",
    "    y=alt.Y('topic',sort='-x'),\n",
    "    x='instagram posts count',\n",
    "    tooltip = ['median comments count','max comments count','median likes count','max likes count','median sentiment score','max sentiment score']\n",
    ").properties(\n",
    "    width=1000,\n",
    "    height=600,\n",
    "    title='Distribution of Topic'\n",
    ").configure_axis(\n",
    "    labelFontSize=15,\n",
    "    titleFontSize=20\n",
    ").configure_title(\n",
    "    fontSize=30\n",
    ").configure_axisX(\n",
    "    labelAngle = -15\n",
    ")"
   ]
  },
  {
   "cell_type": "code",
   "execution_count": 6,
   "metadata": {},
   "outputs": [],
   "source": [
    "chart.save('chart_output/insta_policy_user_level_all.html', embed_options={'renderer':'svg'})"
   ]
  }
 ],
 "metadata": {
  "language_info": {
   "codemirror_mode": {
    "name": "ipython",
    "version": 3
   },
   "file_extension": ".py",
   "mimetype": "text/x-python",
   "name": "python",
   "nbconvert_exporter": "python",
   "pygments_lexer": "ipython3",
   "version": "3.6.7-final"
  },
  "orig_nbformat": 2,
  "kernelspec": {
   "name": "189d4e60-b5b9-45fd-a760-8e03910b4404",
   "display_name": "'Python Interactive'"
  }
 },
 "nbformat": 4,
 "nbformat_minor": 2
}