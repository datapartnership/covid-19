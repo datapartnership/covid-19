{
 "cells": [
  {
   "cell_type": "code",
   "execution_count": 1,
   "metadata": {},
   "outputs": [],
   "source": [
    "import pandas as pd\n",
    "import numpy as np\n",
    "from tqdm import tqdm\n",
    "import altair as alt"
   ]
  },
  {
   "cell_type": "code",
   "execution_count": 3,
   "metadata": {},
   "outputs": [],
   "source": [
    "df = pd.read_csv(\"F:/WB/Issue Monitoring/data/insta_TOP_10_Evolution_Weekly_Issue_Keyword_user_level_new_normal.csv\")\n",
    "df['week_of_the_year'] = df['week_of_the_year'].astype(int)\n",
    "df = df[df['week_of_the_year']>=19].reset_index(drop=True)\n",
    "df=df.drop(columns=['week_of_the_year'])\n",
    "df['tweets_count'] = df['tweets_count'].astype(int)"
   ]
  },
  {
   "cell_type": "code",
   "execution_count": 4,
   "metadata": {},
   "outputs": [
    {
     "output_type": "stream",
     "name": "stdout",
     "text": "Generating Stats for Topic confidence in government new normal\nGenerating Stats for Topic economic policy new normal\nGenerating Stats for Topic employment new normal\nGenerating Stats for Topic health care new normal\nGenerating Stats for Topic health protocol new normal\nGenerating Stats for Topic mobility new normal\n"
    }
   ],
   "source": [
    "tweets_count_dict = {}\n",
    "for topic in ['confidence in government new normal','economic policy new normal','employment new normal','health care new normal','health protocol new normal','mobility new normal']:\n",
    "    print('Generating Stats for Topic {}'.format(topic))\n",
    "    filter_df = df[df[topic]==1].reset_index(drop=True)\n",
    "    tweets_count_dict[topic] = filter_df['tweets_count'].sum()"
   ]
  },
  {
   "cell_type": "code",
   "execution_count": 5,
   "metadata": {},
   "outputs": [],
   "source": [
    "source = pd.DataFrame({\n",
    "    'topic' : ['confidence in government new normal','economic policy new normal','employment new normal','health care new normal','health protocol new normal','mobility new normal'],\n",
    "    'posts count' : [tweets_count_dict['confidence in government new normal'],tweets_count_dict['economic policy new normal'],tweets_count_dict['employment new normal'],tweets_count_dict['health care new normal'],tweets_count_dict['health protocol new normal'],tweets_count_dict['mobility new normal']]\n",
    "})\n",
    "\n",
    "source = source.sort_values(by='posts count',ascending=False).reset_index(drop=True)"
   ]
  },
  {
   "cell_type": "code",
   "execution_count": 6,
   "metadata": {},
   "outputs": [
    {
     "output_type": "execute_result",
     "data": {
      "text/plain": "                                 topic  posts count\n0                employment new normal       928213\n1           health protocol new normal       652003\n2  confidence in government new normal       208465\n3                  mobility new normal       195332\n4           economic policy new normal       109755\n5               health care new normal       100370",
      "text/html": "<div>\n<style scoped>\n    .dataframe tbody tr th:only-of-type {\n        vertical-align: middle;\n    }\n\n    .dataframe tbody tr th {\n        vertical-align: top;\n    }\n\n    .dataframe thead th {\n        text-align: right;\n    }\n</style>\n<table border=\"1\" class=\"dataframe\">\n  <thead>\n    <tr style=\"text-align: right;\">\n      <th></th>\n      <th>topic</th>\n      <th>posts count</th>\n    </tr>\n  </thead>\n  <tbody>\n    <tr>\n      <th>0</th>\n      <td>employment new normal</td>\n      <td>928213</td>\n    </tr>\n    <tr>\n      <th>1</th>\n      <td>health protocol new normal</td>\n      <td>652003</td>\n    </tr>\n    <tr>\n      <th>2</th>\n      <td>confidence in government new normal</td>\n      <td>208465</td>\n    </tr>\n    <tr>\n      <th>3</th>\n      <td>mobility new normal</td>\n      <td>195332</td>\n    </tr>\n    <tr>\n      <th>4</th>\n      <td>economic policy new normal</td>\n      <td>109755</td>\n    </tr>\n    <tr>\n      <th>5</th>\n      <td>health care new normal</td>\n      <td>100370</td>\n    </tr>\n  </tbody>\n</table>\n</div>"
     },
     "metadata": {},
     "execution_count": 6
    }
   ],
   "source": [
    "source"
   ]
  },
  {
   "cell_type": "code",
   "execution_count": 7,
   "metadata": {},
   "outputs": [
    {
     "output_type": "execute_result",
     "data": {
      "text/html": "\n<div id=\"altair-viz-db0618167f35448f9166d6a08034d383\"></div>\n<script type=\"text/javascript\">\n  (function(spec, embedOpt){\n    let outputDiv = document.currentScript.previousElementSibling;\n    if (outputDiv.id !== \"altair-viz-db0618167f35448f9166d6a08034d383\") {\n      outputDiv = document.getElementById(\"altair-viz-db0618167f35448f9166d6a08034d383\");\n    }\n    const paths = {\n      \"vega\": \"https://cdn.jsdelivr.net/npm//vega@5?noext\",\n      \"vega-lib\": \"https://cdn.jsdelivr.net/npm//vega-lib?noext\",\n      \"vega-lite\": \"https://cdn.jsdelivr.net/npm//vega-lite@4.8.1?noext\",\n      \"vega-embed\": \"https://cdn.jsdelivr.net/npm//vega-embed@6?noext\",\n    };\n\n    function loadScript(lib) {\n      return new Promise(function(resolve, reject) {\n        var s = document.createElement('script');\n        s.src = paths[lib];\n        s.async = true;\n        s.onload = () => resolve(paths[lib]);\n        s.onerror = () => reject(`Error loading script: ${paths[lib]}`);\n        document.getElementsByTagName(\"head\")[0].appendChild(s);\n      });\n    }\n\n    function showError(err) {\n      outputDiv.innerHTML = `<div class=\"error\" style=\"color:red;\">${err}</div>`;\n      throw err;\n    }\n\n    function displayChart(vegaEmbed) {\n      vegaEmbed(outputDiv, spec, embedOpt)\n        .catch(err => showError(`Javascript Error: ${err.message}<br>This usually means there's a typo in your chart specification. See the javascript console for the full traceback.`));\n    }\n\n    if(typeof define === \"function\" && define.amd) {\n      requirejs.config({paths});\n      require([\"vega-embed\"], displayChart, err => showError(`Error loading script: ${err.message}`));\n    } else if (typeof vegaEmbed === \"function\") {\n      displayChart(vegaEmbed);\n    } else {\n      loadScript(\"vega\")\n        .then(() => loadScript(\"vega-lite\"))\n        .then(() => loadScript(\"vega-embed\"))\n        .catch(showError)\n        .then(() => displayChart(vegaEmbed));\n    }\n  })({\"config\": {\"view\": {\"continuousWidth\": 400, \"continuousHeight\": 300}, \"axis\": {\"labelFontSize\": 15, \"titleFontSize\": 20}, \"axisX\": {\"labelAngle\": -15}, \"title\": {\"fontSize\": 30}}, \"data\": {\"name\": \"data-fb1db4a9ddabbd3d8a7ef58f70ada9b7\"}, \"mark\": \"bar\", \"encoding\": {\"x\": {\"type\": \"quantitative\", \"field\": \"posts count\"}, \"y\": {\"type\": \"nominal\", \"field\": \"topic\", \"sort\": \"-x\"}}, \"height\": 600, \"title\": \"Distribution of New Normal Topic\", \"width\": 1000, \"$schema\": \"https://vega.github.io/schema/vega-lite/v4.8.1.json\", \"datasets\": {\"data-fb1db4a9ddabbd3d8a7ef58f70ada9b7\": [{\"topic\": \"employment new normal\", \"posts count\": 928213}, {\"topic\": \"health protocol new normal\", \"posts count\": 652003}, {\"topic\": \"confidence in government new normal\", \"posts count\": 208465}, {\"topic\": \"mobility new normal\", \"posts count\": 195332}, {\"topic\": \"economic policy new normal\", \"posts count\": 109755}, {\"topic\": \"health care new normal\", \"posts count\": 100370}]}}, {\"mode\": \"vega-lite\"});\n</script>",
      "text/plain": "alt.Chart(...)"
     },
     "metadata": {},
     "execution_count": 7
    }
   ],
   "source": [
    "alt.Chart(source).mark_bar().encode(\n",
    "    y=alt.Y('topic',sort='-x'),\n",
    "    x='posts count',\n",
    ").properties(\n",
    "    width=1000,\n",
    "    height=600,\n",
    "    title='Distribution of New Normal Topic'\n",
    ").configure_axis(\n",
    "    labelFontSize=15,\n",
    "    titleFontSize=20\n",
    ").configure_title(\n",
    "    fontSize=30\n",
    ").configure_axisX(\n",
    "    labelAngle = -15\n",
    ")"
   ]
  }
 ],
 "metadata": {
  "language_info": {
   "codemirror_mode": {
    "name": "ipython",
    "version": 3
   },
   "file_extension": ".py",
   "mimetype": "text/x-python",
   "name": "python",
   "nbconvert_exporter": "python",
   "pygments_lexer": "ipython3",
   "version": "3.6.7-final"
  },
  "orig_nbformat": 2,
  "kernelspec": {
   "name": "189d4e60-b5b9-45fd-a760-8e03910b4404",
   "display_name": "'Python Interactive'"
  }
 },
 "nbformat": 4,
 "nbformat_minor": 2
}