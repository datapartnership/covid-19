{
 "cells": [
  {
   "cell_type": "code",
   "execution_count": 1,
   "metadata": {},
   "outputs": [],
   "source": [
    "import pandas as pd\n",
    "import numpy as np\n",
    "from tqdm import tqdm\n",
    "import altair as alt"
   ]
  },
  {
   "cell_type": "code",
   "execution_count": 2,
   "metadata": {},
   "outputs": [],
   "source": [
    "df = pd.read_csv(\"F:/WB/Demographic_Prediction/twitter_demographic_topic.csv\")"
   ]
  },
  {
   "cell_type": "code",
   "execution_count": 3,
   "metadata": {},
   "outputs": [
    {
     "output_type": "execute_result",
     "data": {
      "text/plain": "                      topic   <=18  19-29  30-39   >=40   male  female  \\\n0  confidence in government  11238  24346   5776  10547  36698   15209   \n1           economic policy   3290   7344   1859   3127  11074    4546   \n2                employment  13650  27600   5871   9415  36981   19555   \n3               food access   9519  19656   4417   6954  26505   14041   \n4               health care   4596  10224   2418   4088  14496    6830   \n5           health protocol   9818  20077   4591   7582  27870   14198   \n6                  mobility   9049  18487   4937   7498  26907   13064   \n7                    stigma   3638   8359   1717   3070  11679    5105   \n\n   age_nan  gender_nan  \n0   247667      247667  \n1    73330       73330  \n2   277742      277742  \n3   207246      207246  \n4    98015       98015  \n5   226990      226990  \n6   195618      195618  \n7    59345       59345  ",
      "text/html": "<div>\n<style scoped>\n    .dataframe tbody tr th:only-of-type {\n        vertical-align: middle;\n    }\n\n    .dataframe tbody tr th {\n        vertical-align: top;\n    }\n\n    .dataframe thead th {\n        text-align: right;\n    }\n</style>\n<table border=\"1\" class=\"dataframe\">\n  <thead>\n    <tr style=\"text-align: right;\">\n      <th></th>\n      <th>topic</th>\n      <th>&lt;=18</th>\n      <th>19-29</th>\n      <th>30-39</th>\n      <th>&gt;=40</th>\n      <th>male</th>\n      <th>female</th>\n      <th>age_nan</th>\n      <th>gender_nan</th>\n    </tr>\n  </thead>\n  <tbody>\n    <tr>\n      <th>0</th>\n      <td>confidence in government</td>\n      <td>11238</td>\n      <td>24346</td>\n      <td>5776</td>\n      <td>10547</td>\n      <td>36698</td>\n      <td>15209</td>\n      <td>247667</td>\n      <td>247667</td>\n    </tr>\n    <tr>\n      <th>1</th>\n      <td>economic policy</td>\n      <td>3290</td>\n      <td>7344</td>\n      <td>1859</td>\n      <td>3127</td>\n      <td>11074</td>\n      <td>4546</td>\n      <td>73330</td>\n      <td>73330</td>\n    </tr>\n    <tr>\n      <th>2</th>\n      <td>employment</td>\n      <td>13650</td>\n      <td>27600</td>\n      <td>5871</td>\n      <td>9415</td>\n      <td>36981</td>\n      <td>19555</td>\n      <td>277742</td>\n      <td>277742</td>\n    </tr>\n    <tr>\n      <th>3</th>\n      <td>food access</td>\n      <td>9519</td>\n      <td>19656</td>\n      <td>4417</td>\n      <td>6954</td>\n      <td>26505</td>\n      <td>14041</td>\n      <td>207246</td>\n      <td>207246</td>\n    </tr>\n    <tr>\n      <th>4</th>\n      <td>health care</td>\n      <td>4596</td>\n      <td>10224</td>\n      <td>2418</td>\n      <td>4088</td>\n      <td>14496</td>\n      <td>6830</td>\n      <td>98015</td>\n      <td>98015</td>\n    </tr>\n    <tr>\n      <th>5</th>\n      <td>health protocol</td>\n      <td>9818</td>\n      <td>20077</td>\n      <td>4591</td>\n      <td>7582</td>\n      <td>27870</td>\n      <td>14198</td>\n      <td>226990</td>\n      <td>226990</td>\n    </tr>\n    <tr>\n      <th>6</th>\n      <td>mobility</td>\n      <td>9049</td>\n      <td>18487</td>\n      <td>4937</td>\n      <td>7498</td>\n      <td>26907</td>\n      <td>13064</td>\n      <td>195618</td>\n      <td>195618</td>\n    </tr>\n    <tr>\n      <th>7</th>\n      <td>stigma</td>\n      <td>3638</td>\n      <td>8359</td>\n      <td>1717</td>\n      <td>3070</td>\n      <td>11679</td>\n      <td>5105</td>\n      <td>59345</td>\n      <td>59345</td>\n    </tr>\n  </tbody>\n</table>\n</div>"
     },
     "metadata": {},
     "execution_count": 3
    }
   ],
   "source": [
    "df"
   ]
  },
  {
   "cell_type": "code",
   "execution_count": 4,
   "metadata": {},
   "outputs": [
    {
     "output_type": "stream",
     "name": "stdout",
     "text": "Percentage of Tweets which have the Users Demographic Information per Topic\nThis number is not showing the unique users bcs it is in a tweets level (not user level)\nThus, the number is different with the number from age gender overall viz\n"
    },
    {
     "output_type": "execute_result",
     "data": {
      "text/plain": "0    17.326938\n1    17.560427\n2    16.912869\n3    16.362917\n4    17.869802\n5    15.635291\n6    16.966412\n7    22.046789\ndtype: float64"
     },
     "metadata": {},
     "execution_count": 4
    }
   ],
   "source": [
    "print('Percentage of Tweets which have the Users Demographic Information per Topic')\n",
    "print('This number is not showing the unique users bcs it is in a tweets level (not user level)')\n",
    "print('Thus, the number is different with the number from age gender overall viz')\n",
    "100*(df['male']+df['female'])/(df['male']+df['female']+df['age_nan'])"
   ]
  },
  {
   "cell_type": "code",
   "execution_count": 5,
   "metadata": {},
   "outputs": [],
   "source": [
    "df_age = pd.DataFrame(columns=['topic','age_class','count'])\n",
    "df_gender = pd.DataFrame(columns=['topic','gender_class','count'])\n",
    "for topic in ['confidence in government','economic policy','employment','food access','health care','health protocol','mobility','stigma']:\n",
    "    age_dict = {'topic':topic}\n",
    "    gender_dict = {'topic':topic}\n",
    "    for age_class in ['<=18','19-29','30-39','>=40']:\n",
    "        age_dict['age_class'] = age_class\n",
    "        age_dict['count'] = df[(df.topic==topic)][age_class].values[0]\n",
    "        df_age = df_age.append(age_dict,ignore_index=True)\n",
    "    for gender_class in ['male','female']:\n",
    "        gender_dict['gender_class'] = gender_class\n",
    "        gender_dict['count'] = df[(df.topic==topic)][gender_class].values[0]\n",
    "        df_gender = df_gender.append(gender_dict,ignore_index=True)"
   ]
  },
  {
   "cell_type": "code",
   "execution_count": 6,
   "metadata": {},
   "outputs": [
    {
     "output_type": "execute_result",
     "data": {
      "text/html": "\n<div id=\"altair-viz-3716a1fa76684f51bd74f859cd0cb2bb\"></div>\n<script type=\"text/javascript\">\n  (function(spec, embedOpt){\n    let outputDiv = document.currentScript.previousElementSibling;\n    if (outputDiv.id !== \"altair-viz-3716a1fa76684f51bd74f859cd0cb2bb\") {\n      outputDiv = document.getElementById(\"altair-viz-3716a1fa76684f51bd74f859cd0cb2bb\");\n    }\n    const paths = {\n      \"vega\": \"https://cdn.jsdelivr.net/npm//vega@5?noext\",\n      \"vega-lib\": \"https://cdn.jsdelivr.net/npm//vega-lib?noext\",\n      \"vega-lite\": \"https://cdn.jsdelivr.net/npm//vega-lite@4.8.1?noext\",\n      \"vega-embed\": \"https://cdn.jsdelivr.net/npm//vega-embed@6?noext\",\n    };\n\n    function loadScript(lib) {\n      return new Promise(function(resolve, reject) {\n        var s = document.createElement('script');\n        s.src = paths[lib];\n        s.async = true;\n        s.onload = () => resolve(paths[lib]);\n        s.onerror = () => reject(`Error loading script: ${paths[lib]}`);\n        document.getElementsByTagName(\"head\")[0].appendChild(s);\n      });\n    }\n\n    function showError(err) {\n      outputDiv.innerHTML = `<div class=\"error\" style=\"color:red;\">${err}</div>`;\n      throw err;\n    }\n\n    function displayChart(vegaEmbed) {\n      vegaEmbed(outputDiv, spec, embedOpt)\n        .catch(err => showError(`Javascript Error: ${err.message}<br>This usually means there's a typo in your chart specification. See the javascript console for the full traceback.`));\n    }\n\n    if(typeof define === \"function\" && define.amd) {\n      requirejs.config({paths});\n      require([\"vega-embed\"], displayChart, err => showError(`Error loading script: ${err.message}`));\n    } else if (typeof vegaEmbed === \"function\") {\n      displayChart(vegaEmbed);\n    } else {\n      loadScript(\"vega\")\n        .then(() => loadScript(\"vega-lite\"))\n        .then(() => loadScript(\"vega-embed\"))\n        .catch(showError)\n        .then(() => displayChart(vegaEmbed));\n    }\n  })({\"config\": {\"view\": {\"continuousWidth\": 400, \"continuousHeight\": 300}, \"axis\": {\"labelFontSize\": 15, \"titleFontSize\": 20}, \"axisX\": {\"labelAngle\": -45}, \"legend\": {\"labelFontSize\": 15}, \"title\": {\"fontSize\": 30}}, \"data\": {\"name\": \"data-801a873318f27c06dd724635a0a53010\"}, \"mark\": \"bar\", \"encoding\": {\"color\": {\"type\": \"nominal\", \"field\": \"gender_class\"}, \"order\": {\"type\": \"nominal\", \"field\": \"gender_class\", \"sort\": \"ascending\"}, \"tooltip\": [{\"type\": \"quantitative\", \"field\": \"count\"}], \"x\": {\"type\": \"nominal\", \"field\": \"topic\", \"sort\": \"-y\"}, \"y\": {\"type\": \"quantitative\", \"axis\": {\"format\": \"%\"}, \"field\": \"count\", \"stack\": \"normalize\", \"title\": \"% Users\"}}, \"height\": 600, \"title\": \"Twitter Users Gender Distribution Accross Topic\", \"width\": 1000, \"$schema\": \"https://vega.github.io/schema/vega-lite/v4.8.1.json\", \"datasets\": {\"data-801a873318f27c06dd724635a0a53010\": [{\"topic\": \"confidence in government\", \"gender_class\": \"male\", \"count\": 36698}, {\"topic\": \"confidence in government\", \"gender_class\": \"female\", \"count\": 15209}, {\"topic\": \"economic policy\", \"gender_class\": \"male\", \"count\": 11074}, {\"topic\": \"economic policy\", \"gender_class\": \"female\", \"count\": 4546}, {\"topic\": \"employment\", \"gender_class\": \"male\", \"count\": 36981}, {\"topic\": \"employment\", \"gender_class\": \"female\", \"count\": 19555}, {\"topic\": \"food access\", \"gender_class\": \"male\", \"count\": 26505}, {\"topic\": \"food access\", \"gender_class\": \"female\", \"count\": 14041}, {\"topic\": \"health care\", \"gender_class\": \"male\", \"count\": 14496}, {\"topic\": \"health care\", \"gender_class\": \"female\", \"count\": 6830}, {\"topic\": \"health protocol\", \"gender_class\": \"male\", \"count\": 27870}, {\"topic\": \"health protocol\", \"gender_class\": \"female\", \"count\": 14198}, {\"topic\": \"mobility\", \"gender_class\": \"male\", \"count\": 26907}, {\"topic\": \"mobility\", \"gender_class\": \"female\", \"count\": 13064}, {\"topic\": \"stigma\", \"gender_class\": \"male\", \"count\": 11679}, {\"topic\": \"stigma\", \"gender_class\": \"female\", \"count\": 5105}]}}, {\"mode\": \"vega-lite\"});\n</script>",
      "text/plain": "alt.Chart(...)"
     },
     "metadata": {},
     "execution_count": 6
    }
   ],
   "source": [
    "alt.Chart(df_gender).mark_bar().encode(\n",
    "    x = alt.X('topic',sort='-y'),\n",
    "    y = alt.Y('count',stack=\"normalize\", axis=alt.Axis(format='%'), title = '% Users'),\n",
    "    color = 'gender_class',\n",
    "    order = alt.Order('gender_class',sort='ascending'),\n",
    "    tooltip = ['count']\n",
    ").properties(\n",
    "    width=1000,\n",
    "    height=600,\n",
    "    title='Twitter Users Gender Distribution Accross Topic'\n",
    ").configure_axis(\n",
    "    labelFontSize=15,\n",
    "    titleFontSize=20\n",
    ").configure_title(\n",
    "    fontSize=30\n",
    ").configure_legend(\n",
    "    labelFontSize=15\n",
    ").configure_axisX(\n",
    "    labelAngle = -45\n",
    ")"
   ]
  },
  {
   "cell_type": "code",
   "execution_count": 7,
   "metadata": {},
   "outputs": [
    {
     "output_type": "execute_result",
     "data": {
      "text/html": "\n<div id=\"altair-viz-1c7b21ca2e304f8095a9a81ce0b6a82e\"></div>\n<script type=\"text/javascript\">\n  (function(spec, embedOpt){\n    let outputDiv = document.currentScript.previousElementSibling;\n    if (outputDiv.id !== \"altair-viz-1c7b21ca2e304f8095a9a81ce0b6a82e\") {\n      outputDiv = document.getElementById(\"altair-viz-1c7b21ca2e304f8095a9a81ce0b6a82e\");\n    }\n    const paths = {\n      \"vega\": \"https://cdn.jsdelivr.net/npm//vega@5?noext\",\n      \"vega-lib\": \"https://cdn.jsdelivr.net/npm//vega-lib?noext\",\n      \"vega-lite\": \"https://cdn.jsdelivr.net/npm//vega-lite@4.8.1?noext\",\n      \"vega-embed\": \"https://cdn.jsdelivr.net/npm//vega-embed@6?noext\",\n    };\n\n    function loadScript(lib) {\n      return new Promise(function(resolve, reject) {\n        var s = document.createElement('script');\n        s.src = paths[lib];\n        s.async = true;\n        s.onload = () => resolve(paths[lib]);\n        s.onerror = () => reject(`Error loading script: ${paths[lib]}`);\n        document.getElementsByTagName(\"head\")[0].appendChild(s);\n      });\n    }\n\n    function showError(err) {\n      outputDiv.innerHTML = `<div class=\"error\" style=\"color:red;\">${err}</div>`;\n      throw err;\n    }\n\n    function displayChart(vegaEmbed) {\n      vegaEmbed(outputDiv, spec, embedOpt)\n        .catch(err => showError(`Javascript Error: ${err.message}<br>This usually means there's a typo in your chart specification. See the javascript console for the full traceback.`));\n    }\n\n    if(typeof define === \"function\" && define.amd) {\n      requirejs.config({paths});\n      require([\"vega-embed\"], displayChart, err => showError(`Error loading script: ${err.message}`));\n    } else if (typeof vegaEmbed === \"function\") {\n      displayChart(vegaEmbed);\n    } else {\n      loadScript(\"vega\")\n        .then(() => loadScript(\"vega-lite\"))\n        .then(() => loadScript(\"vega-embed\"))\n        .catch(showError)\n        .then(() => displayChart(vegaEmbed));\n    }\n  })({\"config\": {\"view\": {\"continuousWidth\": 400, \"continuousHeight\": 300}, \"axis\": {\"labelFontSize\": 15, \"titleFontSize\": 20}, \"axisX\": {\"labelAngle\": -45}, \"legend\": {\"labelFontSize\": 15}, \"title\": {\"fontSize\": 30}}, \"data\": {\"name\": \"data-687dba5c2404fde81176c9e2a6941323\"}, \"mark\": \"bar\", \"encoding\": {\"color\": {\"type\": \"nominal\", \"field\": \"age_class\"}, \"order\": {\"type\": \"nominal\", \"field\": \"age_class\", \"sort\": \"ascending\"}, \"tooltip\": [{\"type\": \"quantitative\", \"field\": \"count\"}], \"x\": {\"type\": \"nominal\", \"field\": \"topic\", \"sort\": \"-y\"}, \"y\": {\"type\": \"quantitative\", \"axis\": {\"format\": \"%\"}, \"field\": \"count\", \"stack\": \"normalize\", \"title\": \"% Users\"}}, \"height\": 600, \"title\": \"Twitter Users Age Distribution Accross Topic\", \"width\": 1000, \"$schema\": \"https://vega.github.io/schema/vega-lite/v4.8.1.json\", \"datasets\": {\"data-687dba5c2404fde81176c9e2a6941323\": [{\"topic\": \"confidence in government\", \"age_class\": \"<=18\", \"count\": 11238}, {\"topic\": \"confidence in government\", \"age_class\": \"19-29\", \"count\": 24346}, {\"topic\": \"confidence in government\", \"age_class\": \"30-39\", \"count\": 5776}, {\"topic\": \"confidence in government\", \"age_class\": \">=40\", \"count\": 10547}, {\"topic\": \"economic policy\", \"age_class\": \"<=18\", \"count\": 3290}, {\"topic\": \"economic policy\", \"age_class\": \"19-29\", \"count\": 7344}, {\"topic\": \"economic policy\", \"age_class\": \"30-39\", \"count\": 1859}, {\"topic\": \"economic policy\", \"age_class\": \">=40\", \"count\": 3127}, {\"topic\": \"employment\", \"age_class\": \"<=18\", \"count\": 13650}, {\"topic\": \"employment\", \"age_class\": \"19-29\", \"count\": 27600}, {\"topic\": \"employment\", \"age_class\": \"30-39\", \"count\": 5871}, {\"topic\": \"employment\", \"age_class\": \">=40\", \"count\": 9415}, {\"topic\": \"food access\", \"age_class\": \"<=18\", \"count\": 9519}, {\"topic\": \"food access\", \"age_class\": \"19-29\", \"count\": 19656}, {\"topic\": \"food access\", \"age_class\": \"30-39\", \"count\": 4417}, {\"topic\": \"food access\", \"age_class\": \">=40\", \"count\": 6954}, {\"topic\": \"health care\", \"age_class\": \"<=18\", \"count\": 4596}, {\"topic\": \"health care\", \"age_class\": \"19-29\", \"count\": 10224}, {\"topic\": \"health care\", \"age_class\": \"30-39\", \"count\": 2418}, {\"topic\": \"health care\", \"age_class\": \">=40\", \"count\": 4088}, {\"topic\": \"health protocol\", \"age_class\": \"<=18\", \"count\": 9818}, {\"topic\": \"health protocol\", \"age_class\": \"19-29\", \"count\": 20077}, {\"topic\": \"health protocol\", \"age_class\": \"30-39\", \"count\": 4591}, {\"topic\": \"health protocol\", \"age_class\": \">=40\", \"count\": 7582}, {\"topic\": \"mobility\", \"age_class\": \"<=18\", \"count\": 9049}, {\"topic\": \"mobility\", \"age_class\": \"19-29\", \"count\": 18487}, {\"topic\": \"mobility\", \"age_class\": \"30-39\", \"count\": 4937}, {\"topic\": \"mobility\", \"age_class\": \">=40\", \"count\": 7498}, {\"topic\": \"stigma\", \"age_class\": \"<=18\", \"count\": 3638}, {\"topic\": \"stigma\", \"age_class\": \"19-29\", \"count\": 8359}, {\"topic\": \"stigma\", \"age_class\": \"30-39\", \"count\": 1717}, {\"topic\": \"stigma\", \"age_class\": \">=40\", \"count\": 3070}]}}, {\"mode\": \"vega-lite\"});\n</script>",
      "text/plain": "alt.Chart(...)"
     },
     "metadata": {},
     "execution_count": 7
    }
   ],
   "source": [
    "alt.Chart(df_age).mark_bar().encode(\n",
    "    x = alt.X('topic',sort='-y'),\n",
    "    y = alt.Y('count',stack=\"normalize\", axis=alt.Axis(format='%'), title = '% Users'),\n",
    "    color = 'age_class',\n",
    "    order = alt.Order('age_class',sort='ascending'),\n",
    "    tooltip = ['count']\n",
    ").properties(\n",
    "    width=1000,\n",
    "    height=600,\n",
    "    title='Twitter Users Age Distribution Accross Topic'\n",
    ").configure_axis(\n",
    "    labelFontSize=15,\n",
    "    titleFontSize=20\n",
    ").configure_title(\n",
    "    fontSize=30\n",
    ").configure_legend(\n",
    "    labelFontSize=15\n",
    ").configure_axisX(\n",
    "    labelAngle = -45\n",
    ")"
   ]
  }
 ],
 "metadata": {
  "language_info": {
   "codemirror_mode": {
    "name": "ipython",
    "version": 3
   },
   "file_extension": ".py",
   "mimetype": "text/x-python",
   "name": "python",
   "nbconvert_exporter": "python",
   "pygments_lexer": "ipython3",
   "version": "3.6.7-final"
  },
  "orig_nbformat": 2,
  "kernelspec": {
   "name": "189d4e60-b5b9-45fd-a760-8e03910b4404",
   "display_name": "'Python Interactive'"
  }
 },
 "nbformat": 4,
 "nbformat_minor": 2
}