{
 "cells": [
  {
   "cell_type": "code",
   "execution_count": 1,
   "metadata": {},
   "outputs": [],
   "source": [
    "import pandas as pd\n",
    "import numpy as np\n",
    "from tqdm import tqdm\n",
    "import altair as alt"
   ]
  },
  {
   "cell_type": "code",
   "execution_count": 2,
   "metadata": {},
   "outputs": [],
   "source": [
    "df = pd.read_csv(\"F:/WB/Issue Monitoring/data/sentiment_top_20_keywords_confidence_in_government.csv\")\n",
    "\n",
    "df['count'] = df['count'].astype(int)"
   ]
  },
  {
   "cell_type": "code",
   "execution_count": 3,
   "metadata": {},
   "outputs": [
    {
     "output_type": "execute_result",
     "data": {
      "text/html": "\n<div id=\"altair-viz-538df14b035449d29d73bd933884bc69\"></div>\n<script type=\"text/javascript\">\n  (function(spec, embedOpt){\n    let outputDiv = document.currentScript.previousElementSibling;\n    if (outputDiv.id !== \"altair-viz-538df14b035449d29d73bd933884bc69\") {\n      outputDiv = document.getElementById(\"altair-viz-538df14b035449d29d73bd933884bc69\");\n    }\n    const paths = {\n      \"vega\": \"https://cdn.jsdelivr.net/npm//vega@5?noext\",\n      \"vega-lib\": \"https://cdn.jsdelivr.net/npm//vega-lib?noext\",\n      \"vega-lite\": \"https://cdn.jsdelivr.net/npm//vega-lite@4.8.1?noext\",\n      \"vega-embed\": \"https://cdn.jsdelivr.net/npm//vega-embed@6?noext\",\n    };\n\n    function loadScript(lib) {\n      return new Promise(function(resolve, reject) {\n        var s = document.createElement('script');\n        s.src = paths[lib];\n        s.async = true;\n        s.onload = () => resolve(paths[lib]);\n        s.onerror = () => reject(`Error loading script: ${paths[lib]}`);\n        document.getElementsByTagName(\"head\")[0].appendChild(s);\n      });\n    }\n\n    function showError(err) {\n      outputDiv.innerHTML = `<div class=\"error\" style=\"color:red;\">${err}</div>`;\n      throw err;\n    }\n\n    function displayChart(vegaEmbed) {\n      vegaEmbed(outputDiv, spec, embedOpt)\n        .catch(err => showError(`Javascript Error: ${err.message}<br>This usually means there's a typo in your chart specification. See the javascript console for the full traceback.`));\n    }\n\n    if(typeof define === \"function\" && define.amd) {\n      requirejs.config({paths});\n      require([\"vega-embed\"], displayChart, err => showError(`Error loading script: ${err.message}`));\n    } else if (typeof vegaEmbed === \"function\") {\n      displayChart(vegaEmbed);\n    } else {\n      loadScript(\"vega\")\n        .then(() => loadScript(\"vega-lite\"))\n        .then(() => loadScript(\"vega-embed\"))\n        .catch(showError)\n        .then(() => displayChart(vegaEmbed));\n    }\n  })({\"config\": {\"view\": {\"continuousWidth\": 400, \"continuousHeight\": 300}, \"axis\": {\"labelFontSize\": 13, \"titleFontSize\": 20}, \"axisX\": {\"labelAngle\": -90}, \"legend\": {\"labelFontSize\": 15}, \"title\": {\"fontSize\": 30}}, \"data\": {\"name\": \"data-841ec0595f2dc5920cfa42026658d1d5\"}, \"mark\": \"bar\", \"encoding\": {\"color\": {\"type\": \"nominal\", \"field\": \"sentiment\", \"sort\": \"descending\"}, \"order\": {\"type\": \"nominal\", \"field\": \"sentiment\", \"sort\": \"descending\"}, \"x\": {\"type\": \"nominal\", \"field\": \"keyword\"}, \"y\": {\"type\": \"quantitative\", \"axis\": {\"format\": \"%\"}, \"field\": \"count\", \"stack\": \"normalize\", \"title\": \"% Sentiment\"}}, \"height\": 600, \"title\": \"Sentiment of TOP 20 Keywords for Confidence in Government (Twitter)\", \"width\": 1000, \"$schema\": \"https://vega.github.io/schema/vega-lite/v4.8.1.json\", \"datasets\": {\"data-841ec0595f2dc5920cfa42026658d1d5\": [{\"keyword\": \"baswedan\", \"sentiment\": \"positive\", \"count\": 94}, {\"keyword\": \"baswedan\", \"sentiment\": \"neutral\", \"count\": 349}, {\"keyword\": \"baswedan\", \"sentiment\": \"negative\", \"count\": 20}, {\"keyword\": \"tni\", \"sentiment\": \"positive\", \"count\": 507}, {\"keyword\": \"tni\", \"sentiment\": \"neutral\", \"count\": 2324}, {\"keyword\": \"tni\", \"sentiment\": \"negative\", \"count\": 180}, {\"keyword\": \"anies\", \"sentiment\": \"positive\", \"count\": 316}, {\"keyword\": \"anies\", \"sentiment\": \"neutral\", \"count\": 1037}, {\"keyword\": \"anies\", \"sentiment\": \"negative\", \"count\": 112}, {\"keyword\": \"kepolisian\", \"sentiment\": \"positive\", \"count\": 89}, {\"keyword\": \"kepolisian\", \"sentiment\": \"neutral\", \"count\": 445}, {\"keyword\": \"kepolisian\", \"sentiment\": \"negative\", \"count\": 43}, {\"keyword\": \"luhut\", \"sentiment\": \"positive\", \"count\": 232}, {\"keyword\": \"luhut\", \"sentiment\": \"neutral\", \"count\": 954}, {\"keyword\": \"luhut\", \"sentiment\": \"negative\", \"count\": 184}, {\"keyword\": \"tata\", \"sentiment\": \"positive\", \"count\": 467}, {\"keyword\": \"tata\", \"sentiment\": \"neutral\", \"count\": 909}, {\"keyword\": \"tata\", \"sentiment\": \"negative\", \"count\": 45}, {\"keyword\": \"achmad yurianto\", \"sentiment\": \"positive\", \"count\": 50}, {\"keyword\": \"achmad yurianto\", \"sentiment\": \"neutral\", \"count\": 424}, {\"keyword\": \"achmad yurianto\", \"sentiment\": \"negative\", \"count\": 17}, {\"keyword\": \"menteri\", \"sentiment\": \"positive\", \"count\": 360}, {\"keyword\": \"menteri\", \"sentiment\": \"neutral\", \"count\": 1579}, {\"keyword\": \"menteri\", \"sentiment\": \"negative\", \"count\": 149}, {\"keyword\": \"19 achmad\", \"sentiment\": \"positive\", \"count\": 2}, {\"keyword\": \"19 achmad\", \"sentiment\": \"neutral\", \"count\": 164}, {\"keyword\": \"19 achmad\", \"sentiment\": \"negative\", \"count\": 3}, {\"keyword\": \"menkes\", \"sentiment\": \"positive\", \"count\": 83}, {\"keyword\": \"menkes\", \"sentiment\": \"neutral\", \"count\": 325}, {\"keyword\": \"menkes\", \"sentiment\": \"negative\", \"count\": 46}, {\"keyword\": \"pejabat\", \"sentiment\": \"positive\", \"count\": 188}, {\"keyword\": \"pejabat\", \"sentiment\": \"neutral\", \"count\": 956}, {\"keyword\": \"pejabat\", \"sentiment\": \"negative\", \"count\": 131}, {\"keyword\": \"polri\", \"sentiment\": \"positive\", \"count\": 1832}, {\"keyword\": \"polri\", \"sentiment\": \"neutral\", \"count\": 5882}, {\"keyword\": \"polri\", \"sentiment\": \"negative\", \"count\": 372}, {\"keyword\": \"jokowi\", \"sentiment\": \"positive\", \"count\": 484}, {\"keyword\": \"jokowi\", \"sentiment\": \"neutral\", \"count\": 1789}, {\"keyword\": \"jokowi\", \"sentiment\": \"negative\", \"count\": 246}, {\"keyword\": \"polisi\", \"sentiment\": \"positive\", \"count\": 533}, {\"keyword\": \"polisi\", \"sentiment\": \"neutral\", \"count\": 2425}, {\"keyword\": \"polisi\", \"sentiment\": \"negative\", \"count\": 295}, {\"keyword\": \"ganjar pranowo\", \"sentiment\": \"positive\", \"count\": 29}, {\"keyword\": \"ganjar pranowo\", \"sentiment\": \"neutral\", \"count\": 60}, {\"keyword\": \"ganjar pranowo\", \"sentiment\": \"negative\", \"count\": 4}, {\"keyword\": \"bicara pemerintah\", \"sentiment\": \"positive\", \"count\": 4}, {\"keyword\": \"bicara pemerintah\", \"sentiment\": \"neutral\", \"count\": 221}, {\"keyword\": \"bicara pemerintah\", \"sentiment\": \"negative\", \"count\": 21}, {\"keyword\": \"presiden\", \"sentiment\": \"positive\", \"count\": 873}, {\"keyword\": \"presiden\", \"sentiment\": \"neutral\", \"count\": 3418}, {\"keyword\": \"presiden\", \"sentiment\": \"negative\", \"count\": 392}, {\"keyword\": \"moh\", \"sentiment\": \"positive\", \"count\": 1350}, {\"keyword\": \"moh\", \"sentiment\": \"neutral\", \"count\": 7402}, {\"keyword\": \"moh\", \"sentiment\": \"negative\", \"count\": 1036}, {\"keyword\": \"ridwan kamil\", \"sentiment\": \"positive\", \"count\": 85}, {\"keyword\": \"ridwan kamil\", \"sentiment\": \"neutral\", \"count\": 145}, {\"keyword\": \"ridwan kamil\", \"sentiment\": \"negative\", \"count\": 1}, {\"keyword\": \"terawan\", \"sentiment\": \"positive\", \"count\": 11}, {\"keyword\": \"terawan\", \"sentiment\": \"neutral\", \"count\": 153}, {\"keyword\": \"terawan\", \"sentiment\": \"negative\", \"count\": 63}]}}, {\"mode\": \"vega-lite\"});\n</script>",
      "text/plain": "alt.Chart(...)"
     },
     "metadata": {},
     "execution_count": 3
    }
   ],
   "source": [
    "alt.Chart(df).mark_bar().encode(\n",
    "    x = alt.X('keyword'),\n",
    "    y = alt.Y('count',stack=\"normalize\", axis=alt.Axis(format='%'), title = '% Sentiment'),\n",
    "    color = alt.Order('sentiment',sort='descending'),\n",
    "    order = alt.Order('sentiment',sort='descending')\n",
    ").properties(\n",
    "    width=1000,\n",
    "    height=600,\n",
    "    title='Sentiment of TOP 20 Keywords for Confidence in Government (Twitter)'\n",
    ").configure_axis(\n",
    "    labelFontSize=13,\n",
    "    titleFontSize=20\n",
    ").configure_title(\n",
    "    fontSize=30\n",
    ").configure_legend(\n",
    "    labelFontSize=15\n",
    ").configure_axisX(\n",
    "    labelAngle = -90\n",
    ")"
   ]
  }
 ],
 "metadata": {
  "language_info": {
   "codemirror_mode": {
    "name": "ipython",
    "version": 3
   },
   "file_extension": ".py",
   "mimetype": "text/x-python",
   "name": "python",
   "nbconvert_exporter": "python",
   "pygments_lexer": "ipython3",
   "version": "3.6.7-final"
  },
  "orig_nbformat": 2,
  "kernelspec": {
   "name": "189d4e60-b5b9-45fd-a760-8e03910b4404",
   "display_name": "'Python Interactive'"
  }
 },
 "nbformat": 4,
 "nbformat_minor": 2
}