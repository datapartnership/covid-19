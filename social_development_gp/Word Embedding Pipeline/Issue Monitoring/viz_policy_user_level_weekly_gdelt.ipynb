{
 "cells": [
  {
   "cell_type": "code",
   "execution_count": 1,
   "metadata": {},
   "outputs": [],
   "source": [
    "import pandas as pd\n",
    "import numpy as np\n",
    "from tqdm import tqdm\n",
    "import altair as alt"
   ]
  },
  {
   "cell_type": "code",
   "execution_count": 2,
   "metadata": {},
   "outputs": [],
   "source": [
    "df = pd.read_csv(\"F:/WB/Issue Monitoring/data/gdelt_TOP_10_Evolution_Weekly_Issue_Keyword_user_level.csv\")\n",
    "\n",
    "df['news_count'] = df['news_count'].astype(int)\n",
    "df['week_of_the_year'] = df['week_of_the_year'].astype(int)\n",
    "\n",
    "df = df[df['week_of_the_year']>=13].reset_index(drop=True)"
   ]
  },
  {
   "cell_type": "code",
   "execution_count": 3,
   "metadata": {},
   "outputs": [
    {
     "output_type": "execute_result",
     "data": {
      "text/plain": "   week_of_the_year  news_count  confidence in government  economic policy  \\\n0                13           1                       0.0              0.0   \n1                13           1                       0.0              0.0   \n2                13           1                       0.0              0.0   \n3                13           1                       1.0              0.0   \n4                13           1                       1.0              0.0   \n\n   employment  food access  health care  health protocol  mobility  stigma  \n0         0.0          0.0          0.0              0.0       0.0     0.0  \n1         0.0          0.0          0.0              0.0       1.0     0.0  \n2         0.0          0.0          0.0              0.0       0.0     0.0  \n3         1.0          1.0          0.0              0.0       1.0     0.0  \n4         1.0          1.0          1.0              0.0       1.0     0.0  ",
      "text/html": "<div>\n<style scoped>\n    .dataframe tbody tr th:only-of-type {\n        vertical-align: middle;\n    }\n\n    .dataframe tbody tr th {\n        vertical-align: top;\n    }\n\n    .dataframe thead th {\n        text-align: right;\n    }\n</style>\n<table border=\"1\" class=\"dataframe\">\n  <thead>\n    <tr style=\"text-align: right;\">\n      <th></th>\n      <th>week_of_the_year</th>\n      <th>news_count</th>\n      <th>confidence in government</th>\n      <th>economic policy</th>\n      <th>employment</th>\n      <th>food access</th>\n      <th>health care</th>\n      <th>health protocol</th>\n      <th>mobility</th>\n      <th>stigma</th>\n    </tr>\n  </thead>\n  <tbody>\n    <tr>\n      <th>0</th>\n      <td>13</td>\n      <td>1</td>\n      <td>0.0</td>\n      <td>0.0</td>\n      <td>0.0</td>\n      <td>0.0</td>\n      <td>0.0</td>\n      <td>0.0</td>\n      <td>0.0</td>\n      <td>0.0</td>\n    </tr>\n    <tr>\n      <th>1</th>\n      <td>13</td>\n      <td>1</td>\n      <td>0.0</td>\n      <td>0.0</td>\n      <td>0.0</td>\n      <td>0.0</td>\n      <td>0.0</td>\n      <td>0.0</td>\n      <td>1.0</td>\n      <td>0.0</td>\n    </tr>\n    <tr>\n      <th>2</th>\n      <td>13</td>\n      <td>1</td>\n      <td>0.0</td>\n      <td>0.0</td>\n      <td>0.0</td>\n      <td>0.0</td>\n      <td>0.0</td>\n      <td>0.0</td>\n      <td>0.0</td>\n      <td>0.0</td>\n    </tr>\n    <tr>\n      <th>3</th>\n      <td>13</td>\n      <td>1</td>\n      <td>1.0</td>\n      <td>0.0</td>\n      <td>1.0</td>\n      <td>1.0</td>\n      <td>0.0</td>\n      <td>0.0</td>\n      <td>1.0</td>\n      <td>0.0</td>\n    </tr>\n    <tr>\n      <th>4</th>\n      <td>13</td>\n      <td>1</td>\n      <td>1.0</td>\n      <td>0.0</td>\n      <td>1.0</td>\n      <td>1.0</td>\n      <td>1.0</td>\n      <td>0.0</td>\n      <td>1.0</td>\n      <td>0.0</td>\n    </tr>\n  </tbody>\n</table>\n</div>"
     },
     "metadata": {},
     "execution_count": 3
    }
   ],
   "source": [
    "df.head()"
   ]
  },
  {
   "cell_type": "code",
   "execution_count": 4,
   "metadata": {},
   "outputs": [
    {
     "output_type": "execute_result",
     "data": {
      "text/plain": "array([13, 14, 22, 17, 16, 15, 19, 20, 18, 21])"
     },
     "metadata": {},
     "execution_count": 4
    }
   ],
   "source": [
    "df['week_of_the_year'].unique()"
   ]
  },
  {
   "cell_type": "code",
   "execution_count": 6,
   "metadata": {},
   "outputs": [
    {
     "output_type": "stream",
     "name": "stdout",
     "text": "Generating Stats for Week 13 and Topic confidence in government\nGenerating Stats for Week 13 and Topic economic policy\nGenerating Stats for Week 13 and Topic employment\nGenerating Stats for Week 13 and Topic food access\nGenerating Stats for Week 13 and Topic health care\nGenerating Stats for Week 13 and Topic health protocol\nGenerating Stats for Week 13 and Topic mobility\nGenerating Stats for Week 13 and Topic stigma\nGenerating Stats for Week 14 and Topic confidence in government\nGenerating Stats for Week 14 and Topic economic policy\nGenerating Stats for Week 14 and Topic employment\nGenerating Stats for Week 14 and Topic food access\nGenerating Stats for Week 14 and Topic health care\nGenerating Stats for Week 14 and Topic health protocol\nGenerating Stats for Week 14 and Topic mobility\nGenerating Stats for Week 14 and Topic stigma\nGenerating Stats for Week 15 and Topic confidence in government\nGenerating Stats for Week 15 and Topic economic policy\nGenerating Stats for Week 15 and Topic employment\nGenerating Stats for Week 15 and Topic food access\nGenerating Stats for Week 15 and Topic health care\nGenerating Stats for Week 15 and Topic health protocol\nGenerating Stats for Week 15 and Topic mobility\nGenerating Stats for Week 15 and Topic stigma\nGenerating Stats for Week 16 and Topic confidence in government\nGenerating Stats for Week 16 and Topic economic policy\nGenerating Stats for Week 16 and Topic employment\nGenerating Stats for Week 16 and Topic food access\nGenerating Stats for Week 16 and Topic health care\nGenerating Stats for Week 16 and Topic health protocol\nGenerating Stats for Week 16 and Topic mobility\nGenerating Stats for Week 16 and Topic stigma\nGenerating Stats for Week 17 and Topic confidence in government\nGenerating Stats for Week 17 and Topic economic policy\nGenerating Stats for Week 17 and Topic employment\nGenerating Stats for Week 17 and Topic food access\nGenerating Stats for Week 17 and Topic health care\nGenerating Stats for Week 17 and Topic health protocol\nGenerating Stats for Week 17 and Topic mobility\nGenerating Stats for Week 17 and Topic stigma\nGenerating Stats for Week 18 and Topic confidence in government\nGenerating Stats for Week 18 and Topic economic policy\nGenerating Stats for Week 18 and Topic employment\nGenerating Stats for Week 18 and Topic food access\nGenerating Stats for Week 18 and Topic health care\nGenerating Stats for Week 18 and Topic health protocol\nGenerating Stats for Week 18 and Topic mobility\nGenerating Stats for Week 18 and Topic stigma\nGenerating Stats for Week 19 and Topic confidence in government\nGenerating Stats for Week 19 and Topic economic policy\nGenerating Stats for Week 19 and Topic employment\nGenerating Stats for Week 19 and Topic food access\nGenerating Stats for Week 19 and Topic health care\nGenerating Stats for Week 19 and Topic health protocol\nGenerating Stats for Week 19 and Topic mobility\nGenerating Stats for Week 19 and Topic stigma\nGenerating Stats for Week 20 and Topic confidence in government\nGenerating Stats for Week 20 and Topic economic policy\nGenerating Stats for Week 20 and Topic employment\nGenerating Stats for Week 20 and Topic food access\nGenerating Stats for Week 20 and Topic health care\nGenerating Stats for Week 20 and Topic health protocol\nGenerating Stats for Week 20 and Topic mobility\nGenerating Stats for Week 20 and Topic stigma\nGenerating Stats for Week 21 and Topic confidence in government\nGenerating Stats for Week 21 and Topic economic policy\nGenerating Stats for Week 21 and Topic employment\nGenerating Stats for Week 21 and Topic food access\nGenerating Stats for Week 21 and Topic health care\nGenerating Stats for Week 21 and Topic health protocol\nGenerating Stats for Week 21 and Topic mobility\nGenerating Stats for Week 21 and Topic stigma\nGenerating Stats for Week 22 and Topic confidence in government\nGenerating Stats for Week 22 and Topic economic policy\nGenerating Stats for Week 22 and Topic employment\nGenerating Stats for Week 22 and Topic food access\nGenerating Stats for Week 22 and Topic health care\nGenerating Stats for Week 22 and Topic health protocol\nGenerating Stats for Week 22 and Topic mobility\nGenerating Stats for Week 22 and Topic stigma\n"
    }
   ],
   "source": [
    "week_dict = {}\n",
    "for week in [13,14,15,16,17,18,19,20,21,22]:\n",
    "    week_dict[str(week)] = {}\n",
    "    news_count_dict = {}\n",
    "    for topic in ['confidence in government','economic policy','employment','food access','health care','health protocol','mobility','stigma']:\n",
    "        print('Generating Stats for Week {} and Topic {}'.format(week,topic))\n",
    "        filter_df = df[(df[topic]==1) & (df.week_of_the_year==week)].reset_index(drop=True)\n",
    "        news_count_dict[topic] = filter_df['news_count'].sum()\n",
    "\n",
    "    week_dict[str(week)]['tweets_count'] = news_count_dict"
   ]
  },
  {
   "cell_type": "code",
   "execution_count": 8,
   "metadata": {},
   "outputs": [],
   "source": [
    "news_count_list = []\n",
    "for week in ['13','14','15','16','17','18','19','20','21','22']:\n",
    "    for topic in ['confidence in government','economic policy','employment','food access','health care','health protocol','mobility','stigma']:\n",
    "        news_count_list.append(week_dict[week]['tweets_count'][topic])\n"
   ]
  },
  {
   "cell_type": "code",
   "execution_count": 10,
   "metadata": {},
   "outputs": [],
   "source": [
    "source = pd.DataFrame({\n",
    "    'week' : ['Mar 23th - Mar 29th']*8 + ['Mar 30th - Apr 5th']*8 + ['Apr 6th - Apr 12th']*8 + ['Apr 13th - Apr 19th']*8 + ['Apr 20th - Apr 26th']*8 + ['Apr 27th - May 3rd']*8 + ['May 4th - May 10th']*8 + ['May 11th - May 17th']*8 + ['May 18th - May 24th']*8 + ['May 25th - May 31th']*8,\n",
    "    'topic' : ['confidence in government','economic policy','employment','food access','health care','health protocol','mobility','stigma']*10,\n",
    "    'news count': news_count_list\n",
    "})\n",
    "\n",
    "source = source[source['news count']!=0].reset_index(drop=True)"
   ]
  },
  {
   "cell_type": "code",
   "execution_count": 13,
   "metadata": {},
   "outputs": [
    {
     "output_type": "execute_result",
     "data": {
      "text/html": "\n<div id=\"altair-viz-dc00f3a72dc54a8cb908a2ebb845d51b\"></div>\n<script type=\"text/javascript\">\n  (function(spec, embedOpt){\n    let outputDiv = document.currentScript.previousElementSibling;\n    if (outputDiv.id !== \"altair-viz-dc00f3a72dc54a8cb908a2ebb845d51b\") {\n      outputDiv = document.getElementById(\"altair-viz-dc00f3a72dc54a8cb908a2ebb845d51b\");\n    }\n    const paths = {\n      \"vega\": \"https://cdn.jsdelivr.net/npm//vega@5?noext\",\n      \"vega-lib\": \"https://cdn.jsdelivr.net/npm//vega-lib?noext\",\n      \"vega-lite\": \"https://cdn.jsdelivr.net/npm//vega-lite@4.8.1?noext\",\n      \"vega-embed\": \"https://cdn.jsdelivr.net/npm//vega-embed@6?noext\",\n    };\n\n    function loadScript(lib) {\n      return new Promise(function(resolve, reject) {\n        var s = document.createElement('script');\n        s.src = paths[lib];\n        s.async = true;\n        s.onload = () => resolve(paths[lib]);\n        s.onerror = () => reject(`Error loading script: ${paths[lib]}`);\n        document.getElementsByTagName(\"head\")[0].appendChild(s);\n      });\n    }\n\n    function showError(err) {\n      outputDiv.innerHTML = `<div class=\"error\" style=\"color:red;\">${err}</div>`;\n      throw err;\n    }\n\n    function displayChart(vegaEmbed) {\n      vegaEmbed(outputDiv, spec, embedOpt)\n        .catch(err => showError(`Javascript Error: ${err.message}<br>This usually means there's a typo in your chart specification. See the javascript console for the full traceback.`));\n    }\n\n    if(typeof define === \"function\" && define.amd) {\n      requirejs.config({paths});\n      require([\"vega-embed\"], displayChart, err => showError(`Error loading script: ${err.message}`));\n    } else if (typeof vegaEmbed === \"function\") {\n      displayChart(vegaEmbed);\n    } else {\n      loadScript(\"vega\")\n        .then(() => loadScript(\"vega-lite\"))\n        .then(() => loadScript(\"vega-embed\"))\n        .catch(showError)\n        .then(() => displayChart(vegaEmbed));\n    }\n  })({\"config\": {\"view\": {\"continuousWidth\": 400, \"continuousHeight\": 300}, \"axis\": {\"labelFontSize\": 12, \"titleFontSize\": 20}, \"axisX\": {\"labelAngle\": 0}, \"legend\": {\"labelFontSize\": 13}, \"title\": {\"fontSize\": 30}}, \"data\": {\"name\": \"data-05902bd8a81b75aaf922a940a484f950\"}, \"mark\": \"bar\", \"encoding\": {\"color\": {\"type\": \"nominal\", \"field\": \"topic\"}, \"order\": {\"type\": \"nominal\", \"field\": \"topic\", \"sort\": \"ascending\"}, \"x\": {\"type\": \"nominal\", \"field\": \"week\", \"sort\": [\"Jan 1st - Jan 5th\", \"Jan 6th - Jan 12th\", \"Jan 13th - Jan 19th\", \"Jan 20th - Jan 26th\", \"Jan 27th - Feb 2nd\", \"Feb 3rd - Feb 9th\", \"Feb 10th - Feb 16th\", \"Feb 17th - Feb 23th\", \"Feb 24th - Mar 1st\", \"Mar 2nd - Mar 8th\", \"Mar 9th - Mar 15th\", \"Mar 16th - Mar 22th\", \"Mar 23th - Mar 29th\", \"Mar 30th - Apr 5th\", \"Apr 6th - Apr 12th\", \"Apr 13th - Apr 19th\", \"Apr 20th - Apr 26th\", \"Apr 27th - May 3rd\", \"May 4th - May 10th\", \"May 11th - May 17th\"]}, \"y\": {\"type\": \"quantitative\", \"axis\": {\"format\": \"%\"}, \"field\": \"news count\", \"stack\": \"normalize\", \"title\": \"% Posts\"}}, \"height\": 700, \"title\": \"Distribution of Topic Weekly\", \"width\": 1100, \"$schema\": \"https://vega.github.io/schema/vega-lite/v4.8.1.json\", \"datasets\": {\"data-05902bd8a81b75aaf922a940a484f950\": [{\"week\": \"Mar 23th - Mar 29th\", \"topic\": \"confidence in government\", \"news count\": 2612}, {\"week\": \"Mar 23th - Mar 29th\", \"topic\": \"economic policy\", \"news count\": 150}, {\"week\": \"Mar 23th - Mar 29th\", \"topic\": \"employment\", \"news count\": 2508}, {\"week\": \"Mar 23th - Mar 29th\", \"topic\": \"food access\", \"news count\": 2443}, {\"week\": \"Mar 23th - Mar 29th\", \"topic\": \"health care\", \"news count\": 1801}, {\"week\": \"Mar 23th - Mar 29th\", \"topic\": \"health protocol\", \"news count\": 1427}, {\"week\": \"Mar 23th - Mar 29th\", \"topic\": \"mobility\", \"news count\": 3679}, {\"week\": \"Mar 23th - Mar 29th\", \"topic\": \"stigma\", \"news count\": 512}, {\"week\": \"Mar 30th - Apr 5th\", \"topic\": \"confidence in government\", \"news count\": 15363}, {\"week\": \"Mar 30th - Apr 5th\", \"topic\": \"economic policy\", \"news count\": 1797}, {\"week\": \"Mar 30th - Apr 5th\", \"topic\": \"employment\", \"news count\": 12409}, {\"week\": \"Mar 30th - Apr 5th\", \"topic\": \"food access\", \"news count\": 32807}, {\"week\": \"Mar 30th - Apr 5th\", \"topic\": \"health care\", \"news count\": 8815}, {\"week\": \"Mar 30th - Apr 5th\", \"topic\": \"health protocol\", \"news count\": 7968}, {\"week\": \"Mar 30th - Apr 5th\", \"topic\": \"mobility\", \"news count\": 9315}, {\"week\": \"Mar 30th - Apr 5th\", \"topic\": \"stigma\", \"news count\": 1675}, {\"week\": \"Apr 6th - Apr 12th\", \"topic\": \"confidence in government\", \"news count\": 13259}, {\"week\": \"Apr 6th - Apr 12th\", \"topic\": \"economic policy\", \"news count\": 1251}, {\"week\": \"Apr 6th - Apr 12th\", \"topic\": \"employment\", \"news count\": 9180}, {\"week\": \"Apr 6th - Apr 12th\", \"topic\": \"food access\", \"news count\": 12304}, {\"week\": \"Apr 6th - Apr 12th\", \"topic\": \"health care\", \"news count\": 6579}, {\"week\": \"Apr 6th - Apr 12th\", \"topic\": \"health protocol\", \"news count\": 8632}, {\"week\": \"Apr 6th - Apr 12th\", \"topic\": \"mobility\", \"news count\": 5593}, {\"week\": \"Apr 6th - Apr 12th\", \"topic\": \"stigma\", \"news count\": 3392}, {\"week\": \"Apr 13th - Apr 19th\", \"topic\": \"confidence in government\", \"news count\": 10226}, {\"week\": \"Apr 13th - Apr 19th\", \"topic\": \"economic policy\", \"news count\": 1372}, {\"week\": \"Apr 13th - Apr 19th\", \"topic\": \"employment\", \"news count\": 9767}, {\"week\": \"Apr 13th - Apr 19th\", \"topic\": \"food access\", \"news count\": 6909}, {\"week\": \"Apr 13th - Apr 19th\", \"topic\": \"health care\", \"news count\": 7211}, {\"week\": \"Apr 13th - Apr 19th\", \"topic\": \"health protocol\", \"news count\": 7884}, {\"week\": \"Apr 13th - Apr 19th\", \"topic\": \"mobility\", \"news count\": 5457}, {\"week\": \"Apr 13th - Apr 19th\", \"topic\": \"stigma\", \"news count\": 1281}, {\"week\": \"Apr 20th - Apr 26th\", \"topic\": \"confidence in government\", \"news count\": 7154}, {\"week\": \"Apr 20th - Apr 26th\", \"topic\": \"economic policy\", \"news count\": 1992}, {\"week\": \"Apr 20th - Apr 26th\", \"topic\": \"employment\", \"news count\": 8339}, {\"week\": \"Apr 20th - Apr 26th\", \"topic\": \"food access\", \"news count\": 16002}, {\"week\": \"Apr 20th - Apr 26th\", \"topic\": \"health care\", \"news count\": 6304}, {\"week\": \"Apr 20th - Apr 26th\", \"topic\": \"health protocol\", \"news count\": 12972}, {\"week\": \"Apr 20th - Apr 26th\", \"topic\": \"mobility\", \"news count\": 10209}, {\"week\": \"Apr 20th - Apr 26th\", \"topic\": \"stigma\", \"news count\": 1358}, {\"week\": \"Apr 27th - May 3rd\", \"topic\": \"confidence in government\", \"news count\": 8418}, {\"week\": \"Apr 27th - May 3rd\", \"topic\": \"economic policy\", \"news count\": 1651}, {\"week\": \"Apr 27th - May 3rd\", \"topic\": \"employment\", \"news count\": 7456}, {\"week\": \"Apr 27th - May 3rd\", \"topic\": \"food access\", \"news count\": 8824}, {\"week\": \"Apr 27th - May 3rd\", \"topic\": \"health care\", \"news count\": 5726}, {\"week\": \"Apr 27th - May 3rd\", \"topic\": \"health protocol\", \"news count\": 5907}, {\"week\": \"Apr 27th - May 3rd\", \"topic\": \"mobility\", \"news count\": 8129}, {\"week\": \"Apr 27th - May 3rd\", \"topic\": \"stigma\", \"news count\": 1100}, {\"week\": \"May 4th - May 10th\", \"topic\": \"confidence in government\", \"news count\": 7177}, {\"week\": \"May 4th - May 10th\", \"topic\": \"economic policy\", \"news count\": 4238}, {\"week\": \"May 4th - May 10th\", \"topic\": \"employment\", \"news count\": 6749}, {\"week\": \"May 4th - May 10th\", \"topic\": \"food access\", \"news count\": 21041}, {\"week\": \"May 4th - May 10th\", \"topic\": \"health care\", \"news count\": 22692}, {\"week\": \"May 4th - May 10th\", \"topic\": \"health protocol\", \"news count\": 5272}, {\"week\": \"May 4th - May 10th\", \"topic\": \"mobility\", \"news count\": 4455}, {\"week\": \"May 4th - May 10th\", \"topic\": \"stigma\", \"news count\": 1197}, {\"week\": \"May 11th - May 17th\", \"topic\": \"confidence in government\", \"news count\": 6755}, {\"week\": \"May 11th - May 17th\", \"topic\": \"economic policy\", \"news count\": 2338}, {\"week\": \"May 11th - May 17th\", \"topic\": \"employment\", \"news count\": 7086}, {\"week\": \"May 11th - May 17th\", \"topic\": \"food access\", \"news count\": 12640}, {\"week\": \"May 11th - May 17th\", \"topic\": \"health care\", \"news count\": 6044}, {\"week\": \"May 11th - May 17th\", \"topic\": \"health protocol\", \"news count\": 4857}, {\"week\": \"May 11th - May 17th\", \"topic\": \"mobility\", \"news count\": 5547}, {\"week\": \"May 11th - May 17th\", \"topic\": \"stigma\", \"news count\": 912}, {\"week\": \"May 18th - May 24th\", \"topic\": \"confidence in government\", \"news count\": 7910}, {\"week\": \"May 18th - May 24th\", \"topic\": \"economic policy\", \"news count\": 1697}, {\"week\": \"May 18th - May 24th\", \"topic\": \"employment\", \"news count\": 8395}, {\"week\": \"May 18th - May 24th\", \"topic\": \"food access\", \"news count\": 7080}, {\"week\": \"May 18th - May 24th\", \"topic\": \"health care\", \"news count\": 6153}, {\"week\": \"May 18th - May 24th\", \"topic\": \"health protocol\", \"news count\": 5047}, {\"week\": \"May 18th - May 24th\", \"topic\": \"mobility\", \"news count\": 8594}, {\"week\": \"May 18th - May 24th\", \"topic\": \"stigma\", \"news count\": 1541}, {\"week\": \"May 25th - May 31th\", \"topic\": \"confidence in government\", \"news count\": 8944}, {\"week\": \"May 25th - May 31th\", \"topic\": \"economic policy\", \"news count\": 1496}, {\"week\": \"May 25th - May 31th\", \"topic\": \"employment\", \"news count\": 5336}, {\"week\": \"May 25th - May 31th\", \"topic\": \"food access\", \"news count\": 20033}, {\"week\": \"May 25th - May 31th\", \"topic\": \"health care\", \"news count\": 4364}, {\"week\": \"May 25th - May 31th\", \"topic\": \"health protocol\", \"news count\": 6505}, {\"week\": \"May 25th - May 31th\", \"topic\": \"mobility\", \"news count\": 13976}, {\"week\": \"May 25th - May 31th\", \"topic\": \"stigma\", \"news count\": 1192}]}}, {\"mode\": \"vega-lite\"});\n</script>",
      "text/plain": "alt.Chart(...)"
     },
     "metadata": {},
     "execution_count": 13
    }
   ],
   "source": [
    "alt.Chart(source).mark_bar().encode(\n",
    "    x = alt.X('week',sort=['Jan 1st - Jan 5th','Jan 6th - Jan 12th','Jan 13th - Jan 19th','Jan 20th - Jan 26th','Jan 27th - Feb 2nd','Feb 3rd - Feb 9th','Feb 10th - Feb 16th','Feb 17th - Feb 23th','Feb 24th - Mar 1st','Mar 2nd - Mar 8th','Mar 9th - Mar 15th','Mar 16th - Mar 22th','Mar 23th - Mar 29th','Mar 30th - Apr 5th','Apr 6th - Apr 12th','Apr 13th - Apr 19th','Apr 20th - Apr 26th','Apr 27th - May 3rd','May 4th - May 10th','May 11th - May 17th']),\n",
    "    y = alt.Y('news count',stack=\"normalize\", axis=alt.Axis(format='%'), title = '% Posts'),\n",
    "    color = 'topic',\n",
    "    order = alt.Order('topic',sort='ascending')\n",
    ").properties(\n",
    "    width=1100,\n",
    "    height=700,\n",
    "    title='Distribution of Topic Weekly'\n",
    ").configure_axis(\n",
    "    labelFontSize=12,\n",
    "    titleFontSize=20\n",
    ").configure_title(\n",
    "    fontSize=30\n",
    ").configure_legend(\n",
    "    labelFontSize=13\n",
    ").configure_axisX(\n",
    "    labelAngle = 0\n",
    ")"
   ]
  }
 ],
 "metadata": {
  "language_info": {
   "codemirror_mode": {
    "name": "ipython",
    "version": 3
   },
   "file_extension": ".py",
   "mimetype": "text/x-python",
   "name": "python",
   "nbconvert_exporter": "python",
   "pygments_lexer": "ipython3",
   "version": "3.6.7-final"
  },
  "orig_nbformat": 2,
  "kernelspec": {
   "name": "189d4e60-b5b9-45fd-a760-8e03910b4404",
   "display_name": "'Python Interactive'"
  }
 },
 "nbformat": 4,
 "nbformat_minor": 2
}