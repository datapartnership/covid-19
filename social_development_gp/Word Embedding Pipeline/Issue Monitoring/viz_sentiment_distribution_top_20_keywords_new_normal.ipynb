{
 "cells": [
  {
   "cell_type": "code",
   "execution_count": 1,
   "metadata": {},
   "outputs": [],
   "source": [
    "import pandas as pd\n",
    "import numpy as np\n",
    "from tqdm import tqdm\n",
    "import altair as alt"
   ]
  },
  {
   "cell_type": "code",
   "execution_count": 2,
   "metadata": {},
   "outputs": [],
   "source": [
    "df = pd.read_csv(\"F:/WB/Issue Monitoring/data/sentiment_top_20_keywords_confidence_in_government_new_normal.csv\")\n",
    "\n",
    "df['count'] = df['count'].astype(int)"
   ]
  },
  {
   "cell_type": "code",
   "execution_count": 3,
   "metadata": {},
   "outputs": [
    {
     "output_type": "execute_result",
     "data": {
      "text/html": "\n<div id=\"altair-viz-8986db062a0d43f5b8f5a225edfe725c\"></div>\n<script type=\"text/javascript\">\n  (function(spec, embedOpt){\n    let outputDiv = document.currentScript.previousElementSibling;\n    if (outputDiv.id !== \"altair-viz-8986db062a0d43f5b8f5a225edfe725c\") {\n      outputDiv = document.getElementById(\"altair-viz-8986db062a0d43f5b8f5a225edfe725c\");\n    }\n    const paths = {\n      \"vega\": \"https://cdn.jsdelivr.net/npm//vega@5?noext\",\n      \"vega-lib\": \"https://cdn.jsdelivr.net/npm//vega-lib?noext\",\n      \"vega-lite\": \"https://cdn.jsdelivr.net/npm//vega-lite@4.8.1?noext\",\n      \"vega-embed\": \"https://cdn.jsdelivr.net/npm//vega-embed@6?noext\",\n    };\n\n    function loadScript(lib) {\n      return new Promise(function(resolve, reject) {\n        var s = document.createElement('script');\n        s.src = paths[lib];\n        s.async = true;\n        s.onload = () => resolve(paths[lib]);\n        s.onerror = () => reject(`Error loading script: ${paths[lib]}`);\n        document.getElementsByTagName(\"head\")[0].appendChild(s);\n      });\n    }\n\n    function showError(err) {\n      outputDiv.innerHTML = `<div class=\"error\" style=\"color:red;\">${err}</div>`;\n      throw err;\n    }\n\n    function displayChart(vegaEmbed) {\n      vegaEmbed(outputDiv, spec, embedOpt)\n        .catch(err => showError(`Javascript Error: ${err.message}<br>This usually means there's a typo in your chart specification. See the javascript console for the full traceback.`));\n    }\n\n    if(typeof define === \"function\" && define.amd) {\n      requirejs.config({paths});\n      require([\"vega-embed\"], displayChart, err => showError(`Error loading script: ${err.message}`));\n    } else if (typeof vegaEmbed === \"function\") {\n      displayChart(vegaEmbed);\n    } else {\n      loadScript(\"vega\")\n        .then(() => loadScript(\"vega-lite\"))\n        .then(() => loadScript(\"vega-embed\"))\n        .catch(showError)\n        .then(() => displayChart(vegaEmbed));\n    }\n  })({\"config\": {\"view\": {\"continuousWidth\": 400, \"continuousHeight\": 300}, \"axis\": {\"labelFontSize\": 13, \"titleFontSize\": 20}, \"axisX\": {\"labelAngle\": -90}, \"legend\": {\"labelFontSize\": 15}, \"title\": {\"fontSize\": 30}}, \"data\": {\"name\": \"data-d08d6f0d139a4c10ab43bcad01fe14f2\"}, \"mark\": \"bar\", \"encoding\": {\"color\": {\"type\": \"nominal\", \"field\": \"sentiment\", \"sort\": \"descending\"}, \"order\": {\"type\": \"nominal\", \"field\": \"sentiment\", \"sort\": \"descending\"}, \"x\": {\"type\": \"nominal\", \"field\": \"keyword\"}, \"y\": {\"type\": \"quantitative\", \"axis\": {\"format\": \"%\"}, \"field\": \"count\", \"stack\": \"normalize\", \"title\": \"% Sentiment\"}}, \"height\": 600, \"title\": \"Sentiment of TOP 20 New Normal Keywords for Confidence in Government (Twitter)\", \"width\": 1000, \"$schema\": \"https://vega.github.io/schema/vega-lite/v4.8.1.json\", \"datasets\": {\"data-d08d6f0d139a4c10ab43bcad01fe14f2\": [{\"keyword\": \"tata\", \"sentiment\": \"positive\", \"count\": 467}, {\"keyword\": \"tata\", \"sentiment\": \"neutral\", \"count\": 909}, {\"keyword\": \"tata\", \"sentiment\": \"negative\", \"count\": 45}, {\"keyword\": \"relaksasi psbb\", \"sentiment\": \"positive\", \"count\": 4}, {\"keyword\": \"relaksasi psbb\", \"sentiment\": \"neutral\", \"count\": 31}, {\"keyword\": \"relaksasi psbb\", \"sentiment\": \"negative\", \"count\": 4}, {\"keyword\": \"memandikan\", \"sentiment\": \"positive\", \"count\": 1}, {\"keyword\": \"memandikan\", \"sentiment\": \"neutral\", \"count\": 21}, {\"keyword\": \"memandikan\", \"sentiment\": \"negative\", \"count\": 5}, {\"keyword\": \"pedoman\", \"sentiment\": \"positive\", \"count\": 81}, {\"keyword\": \"pedoman\", \"sentiment\": \"neutral\", \"count\": 240}, {\"keyword\": \"pedoman\", \"sentiment\": \"negative\", \"count\": 17}, {\"keyword\": \"rapih\", \"sentiment\": \"positive\", \"count\": 150}, {\"keyword\": \"rapih\", \"sentiment\": \"neutral\", \"count\": 179}, {\"keyword\": \"rapih\", \"sentiment\": \"negative\", \"count\": 6}, {\"keyword\": \"netizen\", \"sentiment\": \"positive\", \"count\": 176}, {\"keyword\": \"netizen\", \"sentiment\": \"neutral\", \"count\": 479}, {\"keyword\": \"netizen\", \"sentiment\": \"negative\", \"count\": 85}, {\"keyword\": \"kelola\", \"sentiment\": \"positive\", \"count\": 57}, {\"keyword\": \"kelola\", \"sentiment\": \"neutral\", \"count\": 173}, {\"keyword\": \"kelola\", \"sentiment\": \"negative\", \"count\": 25}, {\"keyword\": \"lawancovid19\", \"sentiment\": \"positive\", \"count\": 9}, {\"keyword\": \"lawancovid19\", \"sentiment\": \"neutral\", \"count\": 18}, {\"keyword\": \"lawancovid19\", \"sentiment\": \"negative\", \"count\": 2}, {\"keyword\": \"lokal penerapan sosial\", \"sentiment\": \"positive\", \"count\": 0}, {\"keyword\": \"lokal penerapan sosial\", \"sentiment\": \"neutral\", \"count\": 1}, {\"keyword\": \"lokal penerapan sosial\", \"sentiment\": \"negative\", \"count\": 0}, {\"keyword\": \"lintas polres\", \"sentiment\": \"positive\", \"count\": 3}, {\"keyword\": \"lintas polres\", \"sentiment\": \"neutral\", \"count\": 26}, {\"keyword\": \"lintas polres\", \"sentiment\": \"negative\", \"count\": 4}, {\"keyword\": \"lockdown muncul\", \"sentiment\": \"positive\", \"count\": 2}, {\"keyword\": \"lockdown muncul\", \"sentiment\": \"neutral\", \"count\": 2}, {\"keyword\": \"lockdown muncul\", \"sentiment\": \"negative\", \"count\": 0}, {\"keyword\": \"jenazah\", \"sentiment\": \"positive\", \"count\": 70}, {\"keyword\": \"jenazah\", \"sentiment\": \"neutral\", \"count\": 994}, {\"keyword\": \"jenazah\", \"sentiment\": \"negative\", \"count\": 388}, {\"keyword\": \"instruksikan\", \"sentiment\": \"positive\", \"count\": 2}, {\"keyword\": \"instruksikan\", \"sentiment\": \"neutral\", \"count\": 41}, {\"keyword\": \"instruksikan\", \"sentiment\": \"negative\", \"count\": 10}, {\"keyword\": \"imbau\", \"sentiment\": \"positive\", \"count\": 1749}, {\"keyword\": \"imbau\", \"sentiment\": \"neutral\", \"count\": 11567}, {\"keyword\": \"imbau\", \"sentiment\": \"negative\", \"count\": 1064}, {\"keyword\": \"ikutin aturan\", \"sentiment\": \"positive\", \"count\": 25}, {\"keyword\": \"ikutin aturan\", \"sentiment\": \"neutral\", \"count\": 68}, {\"keyword\": \"ikutin aturan\", \"sentiment\": \"negative\", \"count\": 11}, {\"keyword\": \"id\", \"sentiment\": \"positive\", \"count\": 41477}, {\"keyword\": \"id\", \"sentiment\": \"neutral\", \"count\": 144261}, {\"keyword\": \"id\", \"sentiment\": \"negative\", \"count\": 15383}, {\"keyword\": \"legislasi\", \"sentiment\": \"positive\", \"count\": 0}, {\"keyword\": \"legislasi\", \"sentiment\": \"neutral\", \"count\": 8}, {\"keyword\": \"legislasi\", \"sentiment\": \"negative\", \"count\": 0}, {\"keyword\": \"hukum\", \"sentiment\": \"positive\", \"count\": 726}, {\"keyword\": \"hukum\", \"sentiment\": \"neutral\", \"count\": 1536}, {\"keyword\": \"hukum\", \"sentiment\": \"negative\", \"count\": 72}, {\"keyword\": \"homie\", \"sentiment\": \"positive\", \"count\": 5}, {\"keyword\": \"homie\", \"sentiment\": \"neutral\", \"count\": 18}, {\"keyword\": \"homie\", \"sentiment\": \"negative\", \"count\": 2}, {\"keyword\": \"himbauan kesehatan\", \"sentiment\": \"positive\", \"count\": 12}, {\"keyword\": \"himbauan kesehatan\", \"sentiment\": \"neutral\", \"count\": 40}, {\"keyword\": \"himbauan kesehatan\", \"sentiment\": \"negative\", \"count\": 0}]}}, {\"mode\": \"vega-lite\"});\n</script>",
      "text/plain": "alt.Chart(...)"
     },
     "metadata": {},
     "execution_count": 3
    }
   ],
   "source": [
    "alt.Chart(df).mark_bar().encode(\n",
    "    x = alt.X('keyword'),\n",
    "    y = alt.Y('count',stack=\"normalize\", axis=alt.Axis(format='%'), title = '% Sentiment'),\n",
    "    color = alt.Order('sentiment',sort='descending'),\n",
    "    order = alt.Order('sentiment',sort='descending')\n",
    ").properties(\n",
    "    width=1000,\n",
    "    height=600,\n",
    "    title='Sentiment of TOP 20 New Normal Keywords for Confidence in Government (Twitter)'\n",
    ").configure_axis(\n",
    "    labelFontSize=13,\n",
    "    titleFontSize=20\n",
    ").configure_title(\n",
    "    fontSize=30\n",
    ").configure_legend(\n",
    "    labelFontSize=15\n",
    ").configure_axisX(\n",
    "    labelAngle = -90\n",
    ")"
   ]
  }
 ],
 "metadata": {
  "language_info": {
   "codemirror_mode": {
    "name": "ipython",
    "version": 3
   },
   "file_extension": ".py",
   "mimetype": "text/x-python",
   "name": "python",
   "nbconvert_exporter": "python",
   "pygments_lexer": "ipython3",
   "version": "3.6.7-final"
  },
  "orig_nbformat": 2,
  "kernelspec": {
   "name": "189d4e60-b5b9-45fd-a760-8e03910b4404",
   "display_name": "'Python Interactive'"
  }
 },
 "nbformat": 4,
 "nbformat_minor": 2
}