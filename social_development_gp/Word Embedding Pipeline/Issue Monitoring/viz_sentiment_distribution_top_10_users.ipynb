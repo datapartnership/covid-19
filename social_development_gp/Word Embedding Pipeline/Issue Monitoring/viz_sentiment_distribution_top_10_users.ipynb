{
 "cells": [
  {
   "cell_type": "code",
   "execution_count": 1,
   "metadata": {},
   "outputs": [],
   "source": [
    "import pandas as pd\n",
    "import numpy as np\n",
    "from tqdm import tqdm\n",
    "import altair as alt\n",
    "from altair.expr import datum\n",
    "import matplotlib.pyplot as plt"
   ]
  },
  {
   "cell_type": "code",
   "execution_count": 2,
   "metadata": {},
   "outputs": [],
   "source": [
    "def plot(df,type):\n",
    "    alt.data_transformers.enable('default', max_rows=None)\n",
    "\n",
    "    base = alt.Chart(df).mark_bar().encode(\n",
    "        x = alt.X('user_id'),\n",
    "        y = alt.Y('count():Q',stack=\"normalize\", axis=alt.Axis(format='%'), title = '% Sentiment'),\n",
    "        color = alt.Order('sentiment',sort='descending'),\n",
    "        order = alt.Order('sentiment',sort='descending')\n",
    "    )\n",
    "\n",
    "    chart_h1 = alt.hconcat()\n",
    "\n",
    "    for topic in ['confidence in government','economic policy','employment','food access']:\n",
    "        chart_h1 |= base.transform_filter(datum.topic == topic).properties(\n",
    "        width=300,\n",
    "        height=200,\n",
    "        title=topic\n",
    "    )\n",
    "       \n",
    "    chart_h2 = alt.hconcat()\n",
    "\n",
    "    for topic in ['health care','health protocol','mobility','stigma']:\n",
    "        chart_h2 |= base.transform_filter(datum.topic == topic).properties(\n",
    "        width=300,\n",
    "        height=200,\n",
    "        title=topic\n",
    "    )\n",
    "\n",
    "    chart = alt.vconcat(chart_h1,chart_h2)\n",
    "\n",
    "    chart = chart.properties(\n",
    "        title='Sentiment of TOP 10 Most {} Users'.format(type)\n",
    "    ).configure_axis(\n",
    "        labelFontSize=10,\n",
    "        titleFontSize=1\n",
    "    ).configure_title(\n",
    "        fontSize=20\n",
    "    ).configure_legend(\n",
    "        labelFontSize=15\n",
    "    ).configure_axisX(\n",
    "        labelAngle = -90\n",
    "    )\n",
    "    \n",
    "    chart.show()"
   ]
  },
  {
   "cell_type": "code",
   "execution_count": 3,
   "metadata": {
    "tags": []
   },
   "outputs": [
    {
     "output_type": "stream",
     "name": "stdout",
     "text": "Displaying chart at http://localhost:23198/\n"
    }
   ],
   "source": [
    "df_retweet = pd.read_csv(\"F:/WB/Issue Monitoring/data/sentiment_top_10_retweet_users.csv\")\n",
    "df_retweet['sentiment'] = df_retweet['sentiment_score'].apply(lambda x: 'positive' if x>=0.2 else 'neutral' if x>=-0.2 else 'negative')\n",
    "plot(df_retweet,type='Retweeted')"
   ]
  },
  {
   "cell_type": "code",
   "execution_count": 4,
   "metadata": {
    "tags": []
   },
   "outputs": [
    {
     "output_type": "stream",
     "name": "stdout",
     "text": "Displaying chart at http://localhost:23198/\n"
    }
   ],
   "source": [
    "df_reply = pd.read_csv(\"F:/WB/Issue Monitoring/data/sentiment_top_10_reply_users.csv\")\n",
    "df_reply['sentiment'] = df_reply['sentiment_score'].apply(lambda x: 'positive' if x>=0.2 else 'neutral' if x>=-0.2 else 'negative')\n",
    "plot(df_reply,type='Replied')"
   ]
  }
 ],
 "metadata": {
  "language_info": {
   "codemirror_mode": {
    "name": "ipython",
    "version": 3
   },
   "file_extension": ".py",
   "mimetype": "text/x-python",
   "name": "python",
   "nbconvert_exporter": "python",
   "pygments_lexer": "ipython3",
   "version": "3.6.7-final"
  },
  "orig_nbformat": 2,
  "kernelspec": {
   "name": "189d4e60-b5b9-45fd-a760-8e03910b4404",
   "display_name": "'Python Interactive'"
  }
 },
 "nbformat": 4,
 "nbformat_minor": 2
}